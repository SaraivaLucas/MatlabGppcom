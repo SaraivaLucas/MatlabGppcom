{
 "cells": [
  {
   "cell_type": "markdown",
   "metadata": {
    "collapsed": true
   },
   "source": [
    "# Simulação de Monte Carlo\n",
    "\n",
    "### Variáveis aleatórias e Densidade de probabilidade: \n",
    "Variáveis aleatórias são variáveis numéricas que podem variar de uma amostra a outra continuamente (variáveis contínuas) ou não (variáveis discretas). Dizemos que $ X $ é uma variável aleatória absolutamente contínua se existe uma função $  \\mathbb{R}\\rightarrow[0,+\\infty) $ denominada função densidade de probabilidade $f(x)$, que satisfaz às seguintes propriedades:\n",
    "$ f(x)\\geq 0 $, para todo $ x \\in\\mathbb{R}_x $ :\n",
    "\n",
    "$$ \\int_{-\\infty}^\\infty f(x)dx=1 $$\n",
    "\n",
    "Além disso, definimos para qualquer $ c, d \\in \\mathbb{R}_x $, com $c<d$ que:\n",
    "\n",
    "$$\\mathbb{P}(c < X < d)=\\int_{c}^{d} f(x)dx\t$$\n",
    "Sendo $\\mathbb{P}(c < X < d)$ a probabilidade de um evento ocorrer entre $c$ e $d$. Deve-se notar que,por definição, a probabilidade de ocorrer um ponto isolado é sempre zero, ou seja:\n",
    "$$ \\mathbb{P}(X=c)=\\displaystyle \\int_{c}^{c} f(x)dx=0 $$\n",
    "\n",
    "\n",
    "## Metodologia de Monte Carlo (MMC)\n",
    "\n",
    "O Método que se baseia em amostragens aleatórias massivas para obter resultados numéricos. Através de um elevado número de repetições sucessivas, calcula probabilidades heuristicamente, tal como se, de fato, se registrassem os resultados reais.\n",
    "Exemplo: calcular o valor de $\\pi$:\n",
    "\n",
    "**Modelagem:** Considere um círculo de raio $R=5$ inscrito em um quadrado de lado $L=5$. Se analizarmos apenas 1/4 da área do circulo, chegamos à seguinte razão: \n",
    "\n",
    "$$ \\frac{A_{circulo}} {4} \\cdot \\frac{1} {A_{Quadrado}}  = \\frac{\\pi}{4}$$\n",
    "\n",
    "**a)** Desenhar um quadrado com $1/4$ do circulo inscrito nele.\n",
    "\n",
    "**b)** Distribuir uniformente objetos pequenos e de tamanho uniforme (Ex. grãos de arroz) no quadrado. \n",
    "\n",
    "**c)** Contar o número de objetos dentro docírculo e o número total de objetos.\n",
    "\n",
    "A razão entre os dois contadores é uma estimativa da razão entre as duas áreas, que multiplicada por 4, dá o valor de $\\pi$\n",
    "\n",
    "\n",
    "Faremos então esse experimento no Matlab. Faremos para os números de amostras(grãos) $10^{3}, 10^{4}$ e $10^{7}$. Criaremos um vertor com pontos distribuidos aleatoriamente com a função $rand()$. Cada elemento desse vetor deverá ser complexo para que exista duas dimensões. Em seguida faremos o teste para cada amostra (grão) se seu módulo é maior que o raio $R=5$:\n",
    "$$ABS(x) \\leq \\sqrt{x_{Real}^{2}+x_{Img}^{2}} $$\n",
    "Caso positivo, a função retornará 1 e caso negativo a função retornará 0.\n",
    "Em seguida encontramos apenas o número de elementos dentro da circunferência e dividimos por pela quantidade total de elementos distribuido. O valor final será o resutado de $1/4$ da área do circulo, sendo necessário multiplicar por 4 o valor final pra encontrar a estimação  heurística do valor de $\\pi$."
   ]
  },
  {
   "cell_type": "code",
   "execution_count": 8,
   "metadata": {
    "collapsed": false,
    "scrolled": true
   },
   "outputs": [
    {
     "name": "stdout",
     "output_type": "stream",
     "text": [
      "Valor real de pi =  3.1416\n",
      " - Numeor de pontos = 1000\n",
      " - Valor de pi = 3.12\n",
      " - Razão entre as areas =  0.78\n",
      " - pi =  3.12\n",
      " - Erro =  0.021593\n",
      " ----------------------------------\n",
      " - Numeor de pontos = 10000\n",
      " - Valor de pi = 3.1396\n",
      " - Razão entre as areas =  0.7849\n",
      " - pi =  3.1396\n",
      " - Erro =  0.0019927\n",
      " ----------------------------------\n",
      " - Numeor de pontos = 10000000\n",
      " - Valor de pi = 3.1418\n",
      " - Razão entre as areas =  0.78544\n",
      " - pi =  3.1418\n",
      " - Erro =  -0.00015775\n",
      " ----------------------------------\n"
     ]
    }
   ],
   "source": [
    "% Estimador_pi.m\n",
    "clear all;clc;close all;\n",
    "% Estimar valor de pi através do método de monte carlo\n",
    "lQuadrado = 5;                                          % Comprimento do quadrado\n",
    "rCirculo = lQuadrado;                                   % Raio do circulo\n",
    "vtPontos = [ 1e3 1e4 1e7];                              % Número de precisão\n",
    "disp([ 'Valor real de pi =  ' num2str(pi)  ]);          % Mostra valor verdadeiro de pi\n",
    "\n",
    "for nPontos = vtPontos\n",
    "    % Pocisionar ponto no quadrado: Mutiplicando um número aleatório de 0 a\n",
    "    % 1 pelo comprimento do quadrado para distribuir aleatoriamente nas\n",
    "    % duas dimenções.\n",
    "    vtPontos = lQuadrado*rand(1,nPontos) + i*lQuadrado*rand(1,nPontos);\n",
    "    % Testa: \n",
    "    % Caso o modulo do vetor > raio do circulo --> 0 \n",
    "    % Caso o modulo do vetor <= raio do circulo --> 1  \n",
    "    indexPontCirculo = ( abs(vtPontos) <= rCirculo ); \n",
    "    % Encontra o numero de elementos dentro da area do circulo.\n",
    "    razaoArea = length(find(indexPontCirculo))/nPontos;\n",
    "    % Multiplica por 4 pois foi realizado apenas para 1/4 da area do circulo\n",
    "    valordePi = 4*razaoArea;\n",
    "    % Retorna o valor de pi estimado   \n",
    "    disp([' - Numeor de pontos = ' num2str(nPontos)   ]);\n",
    "    disp([' - Valor de pi = ' num2str( valordePi)   ]);\n",
    "    disp([' - Razão entre as areas =  ' num2str(razaoArea)]);\n",
    "    disp([ ' - pi =  ' num2str(valordePi)  ]);\n",
    "    disp([ ' - Erro =  ' num2str(pi-valordePi)  ]);        \n",
    "    disp([ ' ----------------------------------']);\n",
    "    \n",
    "    \n",
    "    \n",
    "    %% Plota elementos\n",
    "    %vtPontosCirculo = vtPontos(indexPontCirculo); \n",
    "    %plot(vtPontosCirculo,'.');\n",
    "    %title(['Simulação com ', num2str(nPontos), ' elementos' ])\n",
    "        \n",
    "end"
   ]
  },
  {
   "cell_type": "markdown",
   "metadata": {
    "collapsed": true
   },
   "source": [
    "Neste método, chamamos de parâmetro o valor de $\\pi$ real e estimador o valor de $\\pi_{N}$ para N amostras. É esperado que para cada compilação haja uma diferença entre os valores de $\\pi$ estimado. Isso ocorre por haver uma distribuição aleatória a qual possui uma certa confiabilidade. "
   ]
  }
 ],
 "metadata": {
  "kernelspec": {
   "display_name": "Matlab",
   "language": "matlab",
   "name": "matlab"
  },
  "language_info": {
   "codemirror_mode": "octave",
   "file_extension": ".m",
   "help_links": [
    {
     "text": "MetaKernel Magics",
     "url": "https://github.com/calysto/metakernel/blob/master/metakernel/magics/README.md"
    }
   ],
   "mimetype": "text/x-matlab",
   "name": "matlab",
   "version": "0.14.2"
  }
 },
 "nbformat": 4,
 "nbformat_minor": 2
}
