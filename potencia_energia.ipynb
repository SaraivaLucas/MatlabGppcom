{
 "cells": [
  {
   "cell_type": "markdown",
   "metadata": {},
   "source": [
    "# Energia e potência de sinais\n",
    "No estudo de Sinais, utilizamos as medidas de __energia__ e __potência__ como formas de mensurar o tamanho de um sinal, embora não utilizemos o sentido convencional (físico) desses termos. \n",
    "### Energia\n",
    "A área abaixo do sinal _x(n)_ pode ser uma boa maneira de estimar seu tamanho, já que considera sua amplitude e duração. Porém, ela é defeituosa pois não considera que as áreas \"negativas\" do sinal podem se cancelar com as \"positivas\". Desse modo, definimos a energia _E_ como a área abaixo de _x²(n)_, que é sempre positiva:\n",
    "\n",
    "$$E = \\int\\limits_{-\\infty}^{+\\infty} |x(n)|²dn\\hspace{20mm}{   (1)} $$ \n",
    "\n",
    "A fórmula acima se aplica a sinais contínuos, e para discretos temos:\n",
    "\n",
    "$$E = \\sum\\limits_{-\\infty}^{+\\infty} |x[n]|²\\hspace{20mm}{   (2)} $$\n",
    "\n",
    "Note que o termo diferencial _dn_ tem valor infinitesimal para sinais contínuos, mas para discretos é substituído por 1, que é o intervalo mínimo entre uma amostra e outra. Nos códigos, não começaremos a contar partindo de $-\\infty$, e sim de 0.\n",
    "### Potência\n",
    "Os métodos expostos acima não funcionam para todo tipo de sinal. São ideais para sinais de energia finita, ou seja, que convergem para 0 para um _n_ suficientemente grande. Sinais de energia infinita são os periódicos, por exemplo, e para estes usamos a potência como medida de tamanho:\n",
    "\n",
    "$$ P = \\lim\\limits_{N \\to \\infty}\\frac{1}{N}\\int\\limits_{-N/2}^{+N/2}|x(n)|² dn \\hspace{20mm}{   (3)}$$ (contínuo)\n",
    "$$ P = \\frac{1}{N}\\sum\\limits_{0}^{N-1}|x[n]|² \\hspace{20mm}(4) $$ (discreto)\n",
    "### Alternativa estatística\n",
    "Como saber se o sinal é de energia infinita ou finita em um _array_ de amostras definido em Python, por exemplo? Os sinais sempre serão de energia finita, na realidade, pois a abstração do infinito não existe computacionalmente/numericamente, já que a memória alocável de uma variável (e do computador) são finitas. Sabendo disso, para qualquer sinal aleatório, podemos calcular seu \"tamanho\" independentemente da sua (não)periodicidade através da fórmula:\n",
    "$$ E[x²] = \\overline{E}[x] + \\sigma²\\hspace{20mm} {   (5)} $$ \n",
    "Convencionemos esse tamanho como \"potência média\". $\\sigma²$ é a variância do sinal, e  $\\overline{E}[x]$ é a média aritmética. Vamos fazer uma analogia com um sinal contínuo de tensão de 5V DC:\n",
    "- Não possui componente AC, logo a variância é nula\n",
    "- Valor médio (esperado para cada amostra) : 5V, da componente DC\n",
    "- A potência desse sinal (25 watts) se deve só a componente DC\n",
    "---\n",
    "Podemos associar essas informações da seguinte maneira:\n",
    "- Potência da componente AC = variância\n",
    "- Potência da componente DC = média aritmética\n",
    "- Potência total = Potência DC + Potência AC = variância + média"
   ]
  },
  {
   "cell_type": "markdown",
   "metadata": {
    "collapsed": true
   },
   "source": [
    "## Cálculo da potência do sinal\n",
    "## Passo-a-passo:\n",
    "### 1. Importando o áudio\n",
    "```python\n",
    "[fs,sinal] = wv.read('guitar.wav')\n",
    "sinal=1.0*sinal\n",
    "```\n",
    "Multiplica-se o sinal por 1.0 para converter os elementos do _array_ para _float_. Isso serve para aumentar a precisão dos cálculos da média e variância.\n",
    "### 2. Calculando a potência média pela definição\n",
    "Usaremos as funções _np.mean()_ e _np.absolute()_, da biblioteca _numpy_ para calcular a média e o módulo, respectivamente, do _array_ passado como parâmetro.\n",
    "```python\n",
    "potencia_media = np.mean(np.absolute(sinal)**2)\n",
    "print('Potência média (pela definição) = {}'.format(potencia_media))\n",
    "```\n",
    "As chaves _{}_ simbolizam a variável, e _.format()_ recebe as variáveis acessadas (devem estar na ordem certa!) pela função _print_. \n",
    "\n",
    "### 3. Armazenando a média e a variância\n",
    "\n",
    "```python\n",
    "variancia = np.var(sinal) \n",
    "media = np.mean(sinal)\n",
    "```\n",
    "### 4. Calculando a potência pelo método de variáveis aleatórias da equação (5):\n",
    "\n",
    "```python\n",
    "potencia_media_2 = variancia + media**2 \n",
    "print('Variância (componente AC) = {}'.format(variancia)) \n",
    "print('Média aritmética (componente DC) = {}'.format(media))\n",
    "print('Potência média (alternativa estatística) = {}'.format(potencia_media_2))\n",
    "```\n",
    "O operador de multiplicação é o asterisco (apenas um), e da potenciação é um par de asteriscos, com o expoente logo em seguida."
   ]
  },
  {
   "cell_type": "code",
   "execution_count": 1,
   "metadata": {
    "collapsed": false
   },
   "outputs": [
    {
     "ename": "NameError",
     "evalue": "name 'wv' is not defined",
     "output_type": "error",
     "traceback": [
      "\u001b[0;31m---------------------------------------------------------------------------\u001b[0m",
      "\u001b[0;31mNameError\u001b[0m                                 Traceback (most recent call last)",
      "\u001b[0;32m<ipython-input-1-0fb210d2aeff>\u001b[0m in \u001b[0;36m<module>\u001b[0;34m()\u001b[0m\n\u001b[0;32m----> 1\u001b[0;31m \u001b[0;34m[\u001b[0m\u001b[0mfs\u001b[0m\u001b[0;34m,\u001b[0m\u001b[0msinal\u001b[0m\u001b[0;34m]\u001b[0m \u001b[0;34m=\u001b[0m \u001b[0mwv\u001b[0m\u001b[0;34m.\u001b[0m\u001b[0mread\u001b[0m\u001b[0;34m(\u001b[0m\u001b[0;34m'guitar.wav'\u001b[0m\u001b[0;34m)\u001b[0m\u001b[0;34m\u001b[0m\u001b[0m\n\u001b[0m\u001b[1;32m      2\u001b[0m \u001b[0msinal\u001b[0m\u001b[0;34m=\u001b[0m\u001b[0;36m1.0\u001b[0m\u001b[0;34m*\u001b[0m\u001b[0msinal\u001b[0m \u001b[0;31m#forçando a conversão de int para float\u001b[0m\u001b[0;34m\u001b[0m\u001b[0m\n\u001b[1;32m      3\u001b[0m \u001b[0mpotencia_media\u001b[0m \u001b[0;34m=\u001b[0m \u001b[0mnp\u001b[0m\u001b[0;34m.\u001b[0m\u001b[0mmean\u001b[0m\u001b[0;34m(\u001b[0m\u001b[0mnp\u001b[0m\u001b[0;34m.\u001b[0m\u001b[0mabsolute\u001b[0m\u001b[0;34m(\u001b[0m\u001b[0msinal\u001b[0m\u001b[0;34m)\u001b[0m\u001b[0;34m**\u001b[0m\u001b[0;36m2\u001b[0m\u001b[0;34m)\u001b[0m\u001b[0;34m\u001b[0m\u001b[0m\n\u001b[1;32m      4\u001b[0m \u001b[0;31m#'absolute' retorna o módulo\u001b[0m\u001b[0;34m\u001b[0m\u001b[0;34m\u001b[0m\u001b[0m\n\u001b[1;32m      5\u001b[0m \u001b[0mprint\u001b[0m\u001b[0;34m(\u001b[0m\u001b[0;34m'Potência média (pela definição) = {}'\u001b[0m\u001b[0;34m.\u001b[0m\u001b[0mformat\u001b[0m\u001b[0;34m(\u001b[0m\u001b[0mpotencia_media\u001b[0m\u001b[0;34m)\u001b[0m\u001b[0;34m)\u001b[0m\u001b[0;34m\u001b[0m\u001b[0m\n",
      "\u001b[0;31mNameError\u001b[0m: name 'wv' is not defined"
     ]
    }
   ],
   "source": [
    "[fs,sinal] = wv.read('guitar.wav')\n",
    "sinal=1.0*sinal #forçando a conversão de int para float\n",
    "potencia_media = np.mean(np.absolute(sinal)**2)\n",
    "#'absolute' retorna o módulo\n",
    "print('Potência média (pela definição) = {}'.format(potencia_media))\n",
    "variancia = np.var(sinal) \n",
    "media = np.mean(sinal)\n",
    "potencia_media_2 = variancia + media**2 #variância + média ao quadrado\n",
    "print('Variância (componente AC) = {}'.format(variancia)) \n",
    "print('Média aritmética (componente DC) = {}'.format(media**2))\n",
    "print('Potência média (alternativa estatística) = {}'.format(potencia_media_2))"
   ]
  },
  {
   "cell_type": "code",
   "execution_count": null,
   "metadata": {
    "collapsed": true
   },
   "outputs": [],
   "source": []
  }
 ],
 "metadata": {
  "kernelspec": {
   "display_name": "Python 3",
   "language": "python",
   "name": "python3"
  },
  "language_info": {
   "codemirror_mode": {
    "name": "ipython",
    "version": 3
   },
   "file_extension": ".py",
   "mimetype": "text/x-python",
   "name": "python",
   "nbconvert_exporter": "python",
   "pygments_lexer": "ipython3",
   "version": "3.4.5"
  }
 },
 "nbformat": 4,
 "nbformat_minor": 2
}
