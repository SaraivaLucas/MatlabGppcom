{
 "cells": [
  {
   "cell_type": "markdown",
   "metadata": {},
   "source": [
    "## Esperança, autocorrelação e autocovariância\n",
    "\n",
    "(Se você esperimentar problemas com a visualização de equações desse notebook, use o NBviewer pelo [link]( http://nbviewer.jupyter.org/github/vicentesousa/DCO2004_LabPSC/blob/master/h04_matlab.ipynb)).\n",
    "\n",
    "A **média** $\\mu(t)$ é definida como o valor esperado (esperança) de $x(t)$ da seguinte forma:\n",
    "\n",
    "$$\\mu(t) = E\\left \\{x(t)\\right \\} = \\int\\limits_{-\\infty}^{\\infty}xf(x,t)dx$$\n",
    "\n",
    "sendo $f(x,t)$ a função distribuição de $x(t)$ (sua densidade de primeira-ordem), e $x(t)$ uma variável aleatória contínua.\n",
    "\n",
    "Para uma variável aleatória discreta, temos que:\n",
    "\n",
    "$$E{x(t)} = \\sum\\limits_{i}x_ip_i$$\n",
    "\n",
    "sendo $p_i = P\\{ x = x_i\\}$\n",
    "\n",
    "Um caso especial bem conhecido acontece quando as probabilidades $p_i$ são iguais, independente do valor de $i$, e o número de valores observáveis é finito, resultando na média aritmética: \n",
    "\n",
    "$$E\\{x(t)\\} = \\frac{1}{N}\\sum\\limits_{i=1}^{N}x_i$$\n",
    "\n",
    "A **autocorrelação** ${R}_{xx}$ de um sinal aleatório descreve a dependência entre valores de amostras em instantes distintos. Ela pode ser usada para encontrar padrões de repetição em tais sinais (não aleatoriedades), por exemplo, identificar uma frequência fundamental, implícita pelas suas frequências harmônicas.  A autocorrelação é uma medida que informa o quanto o valor de uma realização de uma variável aleatória é capaz de influenciar seus vizinhos. Por exemplo, o quanto a existência de um valor mais alto condiciona valores também altos de seus vizinhos.\n",
    "\n",
    "Define-se a autocorrelação de um processo aleatório contínuo (e.g. um sinal de voz), como:\n",
    "\n",
    "$$R(t_1, t_2)= E\\{x(t_1)x(t_2)\\} = \\int\\limits_{-\\infty}^{\\infty}\\int\\limits_{-\\infty}^{\\infty} x_1x_2f(x_1, x_2; t_1, t_2)dx_1dx_2$$\n",
    "\n",
    "Por se tratar da análise de relação entre um sinal e ele mesmo, podemos ter diversas aplicações em telecom, tais como:\n",
    "\n",
    "- Detecção de sinais;\n",
    "- Detecção de atraso em sinais (cancelamento de eco);\n",
    "- Atraso entre sinais recebidos por sensores em posições diferentes;\n",
    "- Detecção de padrões de sinalização conhecidos (e.g. detecção de preâmbulo);\n",
    "- Determinação da frequência e potência de um sinal;\n",
    "- Predição de séries temporais.\n",
    "\n",
    "Como a autocorrelação é uma medida estatística não vinculada a uma área de aplicação específica, trabalhos em outras áreas bem diferentes de telecomunicações podem ser achados em grande quantidade, tais como:\n",
    "\n",
    "- AUTOCORRELAÇÃO ESPACIAL NA ÁREA DE LOJA DE SUPERMERCADOS NOS MUNICÍPIOS PAULISTAS ([link](http://www.scielo.br/pdf/rae/v39n4/v39n4a05));\n",
    "- MODELAGEM DA AUTOCORRELAÇÃO RESIDUAL PELO MÉTODO DOS MÍNIMOS QUADRADOS GENERALIZADOS COM APLICAÇÃO AO MERCADO DE CARNE DE FRANGO ([link](http://dspace.bc.uepb.edu.br/jspui/bitstream/123456789/7096/1/PDF%20-%20Ianne%20Porfirio%20de%20Queiroz.pdf)).\n",
    "\n",
    "Assim como a autocorrelação, a **autocovariância** também é uma medida de relação linear entre variáveis aleatórias tomadas de um processo estocástico em tempos distintos ($t_1$ e $t_2$), e pode ser definida como:\n",
    "\n",
    "$$C_{xx}(t_1, t_2) = R(t_1, t_2) - \\mu(t_1)\\mu(t_2)$$\n",
    "\n",
    "A autocovariância mede a tendência da distribuição de probabilidade conjunta de $x(t_1)$ e $x(t_2)$. Assim, tanto a autocorrelação como a autocovariância medem como duas variáveis aleatórias, $x(t_1)$ e $x(t_2)$, de um processo estocástico variam conjuntamente (as duas crescem, descrescem ou tem relação inversa ao longo do tempo?).\n",
    "\n",
    "Como veremos posteriormente, a autocorrelção está intimamente ligada com a medida de potência de um sinal, enquanto a autocovariância está mais ligada a medida de correlação do sinal."
   ]
  },
  {
   "cell_type": "code",
   "execution_count": null,
   "metadata": {
    "collapsed": true
   },
   "outputs": [],
   "source": []
  }
 ],
 "metadata": {
  "kernelspec": {
   "display_name": "Matlab",
   "language": "matlab",
   "name": "matlab"
  },
  "language_info": {
   "codemirror_mode": "octave",
   "file_extension": ".m",
   "help_links": [
    {
     "text": "MetaKernel Magics",
     "url": "https://github.com/calysto/metakernel/blob/master/metakernel/magics/README.md"
    }
   ],
   "mimetype": "text/x-matlab",
   "name": "matlab",
   "version": "0.14.3"
  }
 },
 "nbformat": 4,
 "nbformat_minor": 2
}
