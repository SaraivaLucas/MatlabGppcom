{
 "cells": [
  {
   "cell_type": "markdown",
   "metadata": {},
   "source": [
    "# Prototipagem sistêmica (modelagem de um sistema multiusuário multicelular, cálculo de interferência e SINR) \n",
    "\n",
    "## Modulação de múltiplas portadoras e OFDM\n",
    "Um dos elementos-chave do sistema LTE é o uso do OFDM (Orthogonal Frequency Division Multiplex) e dos esquemas de acesso associados, OFDMA (Orthogonal Frequency Division Multiple Access) e SC-FDMA (Single Frequency Division Multiple Access). Afinal, o OFDM possui muitas vantagens, incluindo a sua robustez ao multi-percurso e à interferência. \n",
    "\n",
    "Dadas as suas vantagens, o uso de OFDM, OFDMA e SC-FDMA são escolhas naturais para o novo padrão celular LTE. Neste Hands-on, entenderemos melhor o funcionamento do OFDM, compreendendo e analisando suas vantagens e desvantagens.\n",
    "### Divisão na frequência e ortogonalidade\n",
    "Em modulações de múltiplas portadoras, a largura de banda disponível é subdividida em um número de subcanais (ou subportadoras) de mesma largura de banda, como visto na Figura 1.\n",
    "\n",
    "FIGURA@@@@@@@@@@@@@@@@@@@@\n",
    "\n",
    "A quantidade de subcanais é dada por $K = W/∆f$, onde $W$ é a largura de banda total e $\\Delta f$ é a separação entre subportadoras adjacentes. Assim, símbolos de informação diferentes são transmitidos simultaneamente e de forma síncrona nos K subcanais. Os dados aqui(mostrados na Figura 1) são transmitidos por multiplexação por divisão de frequência (FDM).\n",
    "Para cada subcanal, associaremos uma portadora:\n",
    "$$ x_{k}(t)=sen(2\\pi f_{k} t) $$ \n",
    "Sendo $k=0,1,...,K-1$, onde $f_{k}$ é a frequência central do canal. Escolhendo uma taxa de símbolo $1/T$ em cada um dos subcanais igual a $\\Delta f $, demostra-se que:\n",
    "$$ \\int_{0}^{T}sen(2 \\pi f_{k} t + \\varphi_{k}) \\cdot sen(2 \\pi f_{j} t + \\varphi_{j}) = 0 $$ \n",
    "Onde $\\left (f_{k} − f_{j}\\right ) = \\frac {n}{T}$ , com $n$ variando de $ n = 1,2, ... $. E essa relação é verdadeira para quaisquer $\\varphi _{k}$ e $\\varphi _{j}$ . Ou seja, as subportadoras são ortogonais na duração de símbolo $T$, independentemente da fase entre as duas subportadoras.\n",
    "Com essa restrição, a multiplexação se torna por Divisão Ortogonal de Frequência(OFDM). \n",
    "\n",
    "O sistema OFDM é utilizado para evitar os efeitos da interferência inter simbólica que se encontram muito presentes em sistemas de portadora única. As subportadoras são arranjadas de tal forma que no centro de suas frequências se tenha um nulo, como mostra a Figura 2.\n",
    "\n",
    "\n",
    "FIGURA@@@@@@@@@@@@@@@@@@@@\n",
    "\n",
    "Se $T_{s}$ é o intervalo de símbolo em um sistema de portadora única, o intervalo de símbolo em um sistema OFDM de $k$ subcanais é $T = K \\cdot T_{s}$. Na Figura 3, vemos um caso no qual o primeiro símbolo chega um pouco atrasado, fazendo com que sua parte final ultrapasse o seu tempo e ocupe o tempo do próximo símbolo. Essa interferência entre símbolos diferentes é chamada “Interferência Inter Simbólica (ISI) ”.\n",
    "\n",
    "\n",
    "\n",
    "FIGURA@@@@@@@@@@@@@@@@@@@@\n",
    "\n",
    "\n",
    "\n",
    "Escolhendo um $K$ suficientemente grande, o intervalo de símbolo $T$ no sistema OFDM pode ser muito maior que o tempo de dispersão do canal, ou seja, que o atraso do símbolo, fazendo com que não haja $ISI$.\n",
    "\n",
    "\n",
    "### Exemplo 1 --  Matlab\n",
    "\n",
    "     Sendo duas subportadoras em um sinal OFDM: \n",
    "\n",
    "$$ x_{k}(t)=sen(2\\pi f_{k} t + \\phi_{k} ) $$ Para $0 \\leq t \\leq T$\n",
    "\n",
    "$$ x_{j}(t)=sen(2\\pi f_{j} t + \\phi_{j} ) $$ Para $0 \\leq t \\leq T$\n",
    "\n",
    "Considerando $f_{k} = 2 Hz$ e $f_{j} = f_{k} + n/T $, onde $ n = 1, 2, 3$, e as fases $\\phi_{k}$ e $\\phi_{j}$ são\n",
    "arbitrárias variando de $ [0,2\\pi]$. Demonstre a propriedade da ortogonalidade usando os sinais amostrados $x_{k}(mT_{s})$  e $x_{j}(mT_{s})$, onde $T_{s} = 1/5$ s, $T = 10 $s , $M = \\frac{T}{T_{s}} = 50$ é o número de subcanais e  $m = 0,1,2, ... , M − 1 = 0,1,2, ... , 49 $.\n",
    "\n",
    "--> **Solução:**\n",
    "\n",
    "\n",
    "\n",
    "--- Passo 1)\n",
    "\n",
    "Inicialmente, definiremos as variáveis $M$ e $ n$, além de $\\phi_{k}$ e $\\phi_{j}$. A função $\\textit{rand()}$ gera um número aleatório entre 0 e 1."
   ]
  },
  {
   "cell_type": "code",
   "execution_count": 3,
   "metadata": {
    "collapsed": true
   },
   "outputs": [],
   "source": [
    "clc;clear all;close all;\n",
    "% Parâmetros dados na questão Passo 1)\n",
    "M = 50;\n",
    "m = 0:M-1;\n",
    "phi_k = 2*pi*rand;\n",
    "phi_j = 2*pi*rand;"
   ]
  },
  {
   "cell_type": "markdown",
   "metadata": {},
   "source": [
    "--- Passo 2)\n",
    "\n",
    "Obtemos os sinais amostrados:\n",
    "\n",
    "$$  x_{k}(mT_{s})= sen(2\\pi f_{k} (mT_{s})+\\phi_{k}) =  sen(4\\pi (mT_{s})+\\phi_{k}) = sen(\\frac{4\\pi m}{5}+\\phi_{k}) $$\n",
    "Já o $x_{j}$ é dito como:\n",
    "\n",
    "$$ x_{j}(mT_{s})=  sen(2\\pi \\cdot(f_{k}+n/T)  \\cdot(mT_{s})+\\phi_{j})  = sen(2\\pi \\cdot f_{k}  \\cdot mT_{s} +2\\pi \\cdot   mn\\cdot(T_{s}/T)+\\phi_{j}) $$\n",
    "\n",
    "$$  x_{j}(mT_{s})=sen(\\frac{4\\pi m} { 5} +\\frac{ 2\\pi mn}{50}+ \\phi_{j}) $$\n",
    "\n",
    "\n",
    "Sendo $n=1,2,3$"
   ]
  },
  {
   "cell_type": "code",
   "execution_count": 5,
   "metadata": {
    "collapsed": true
   },
   "outputs": [],
   "source": [
    "% Sinais amostrados Passo 2)\n",
    "x_k = sin(4*pi*m/5+phi_k);\n",
    "n = 1;\n",
    "x_j_1 = sin(4*pi*m/5+2*pi*m*n/M+phi_j);\n",
    "n = 2;\n",
    "x_j_2 = sin(4*pi*m/5+2*pi*m*n/M+phi_j);\n",
    "n = 3;\n",
    "x_j_3 = sin(4*pi*m/5+2*pi*m*n/M+phi_j);"
   ]
  },
  {
   "cell_type": "markdown",
   "metadata": {},
   "source": [
    "--- Passo 3)\n",
    "\n",
    "Para demostrar a ortogonalidade devemos ter, para sinais contínuos:\n",
    "\n",
    "$$ \\int_{0}^{T} \\left (sen(2\\pi f_{k}t+\\phi_{k}) \\cdot sen(2\\pi f_{j}t+\\phi_{j})\\right ) dt = 0$$\n",
    "\n",
    "Ou, para sinais discretos (amostrados):\n",
    "\n",
    "$$ \\sum_{m=0}^{49}x_{k}(mT_{s})\\cdot x_{j}(mT_{s}) $$\n",
    "\n",
    "Calculando no Matlab os três somatórios, para cada valor de n:"
   ]
  },
  {
   "cell_type": "code",
   "execution_count": null,
   "metadata": {
    "collapsed": true
   },
   "outputs": [],
   "source": [
    "% Verificar ortogonalidade   Passo 3)\n",
    "Sum1 = sum(x_k.*x_j_1);\n",
    "disp(['O resultado para n=1 é: ' , num2str(Sum1)])\n",
    "Sum2 = sum(x_k.*x_j_2);\n",
    "disp(['O resultado para n=2 é: ' , num2str(Sum2)])\n",
    "Sum3 = sum(x_k.*x_j_3);\n",
    "disp(['O resultado para n=3 é: ' , num2str(Sum3)])"
   ]
  },
  {
   "cell_type": "markdown",
   "metadata": {},
   "source": [
    "Código final:"
   ]
  },
  {
   "cell_type": "code",
   "execution_count": 2,
   "metadata": {},
   "outputs": [
    {
     "name": "stdout",
     "output_type": "stream",
     "text": [
      "O resultado para n=1 é: -1.6931e-14\n",
      "O resultado para n=2 é: -4.2688e-14\n",
      "O resultado para n=3 é: -7.3275e-15\n"
     ]
    }
   ],
   "source": [
    "clc;clear all;close all;\n",
    "%% Parâmetros dados na questão Passo 1)\n",
    "M = 50;\n",
    "m = 0:M-1;\n",
    "phi_k = 2*pi*rand;\n",
    "phi_j = 2*pi*rand;\n",
    "\n",
    "%% Sinais amostrados Passo 2)\n",
    "x_k = sin(4*pi*m/5+phi_k);\n",
    "n = 1;\n",
    "x_j_1 = sin(4*pi*m/5+2*pi*m*n/M+phi_j);\n",
    "n = 2;\n",
    "x_j_2 = sin(4*pi*m/5+2*pi*m*n/M+phi_j);\n",
    "n = 3;\n",
    "x_j_3 = sin(4*pi*m/5+2*pi*m*n/M+phi_j);\n",
    "\n",
    "%% Verificar ortogonalidade   Passo 3)\n",
    "Sum1 = sum(x_k.*x_j_1);\n",
    "disp(['O resultado para n=1 é: ' , num2str(Sum1)])\n",
    "Sum2 = sum(x_k.*x_j_2);\n",
    "disp(['O resultado para n=2 é: ' , num2str(Sum2)])\n",
    "Sum3 = sum(x_k.*x_j_3);\n",
    "disp(['O resultado para n=3 é: ' , num2str(Sum3)])"
   ]
  },
  {
   "cell_type": "markdown",
   "metadata": {},
   "source": [
    "Esses valores são muito próximo de zero, de modo que dessa forma comprovamos a ortogonalidade entre as subportadoras $x_{k}(t)$ e $x_{j}(t)$ para quaisquer valores de $\\phi_{k}$ e $\\phi_{j}$ .\n",
    "\n",
    "## Transmissão de um sinal OFDM\n",
    "\n",
    "Um esquema simplificado do transmissor OFDM é mostrado na Figura 4.\n",
    "\n",
    "FIGURA@@@@@@@@@@@@@@@@@@@@\n",
    "\n",
    "No sistema LTE, a modulação pode ser do tipo QPSK (Quadrature Phase Shift Keying),16-QAM ou 64-QAM (Quadrature Amplitude Modulation).\n",
    "\n",
    "A modulação M-QAM é combinada pela modulação em fase e amplitude do sinal, que usa com maior eficiência a largura de faixa. Esse tipo de modulação é constituído de $M$ símbolos, cada qual representado por $k = log_{2}(M)$ bits.\n",
    "\n",
    "Neste hands-on, utilizaremos o $OFDM $ com $16-QAM$. Ou seja, existirão $16$ símbolos, cada um com uma respectiva amplitude e fase, representando uma sequência de $4$ bits. Um exemplo de constelação $16-QAM$ pode ser observado na Figura $5$ e ter sua correspondência de valores binários e complexos analisada na Tabela 1. Entretanto, é importante enfatizar que podemos representar a sequência de $4 $ bits com fases e amplitudes diferentes das mostradas na Figura 5 e Tabela 1. Ou seja, aqui estamos representando a sequência $1010 $ como $1 + 1j$, mas pode existir outra constelação em que essa mesma sequência seja representada por $3 − 3j$, por exemplo.\n",
    "\n",
    "\n",
    "FIGURA@@@@@@@@@@@@@@@@@@@@\n",
    "\n",
    "\n",
    "Um modulador OFDM gera $ K$ subportadoras independentes, onde cada subportadora é modulada por símbolos a partir de uma constelação QAM, obtendo um valor complexo. \n",
    "\n",
    "Dessa forma, cada ponto de valor complexo corresponde à informação de uma respectiva subportadora $X_{k}$ , sendo $k=0, 1, ... K-1$. Assim, esses símbolos de informação $X_{k}$ representam os valores de uma DFT de um sinal OFDM de múltiplas portadoras, onde a modulação de cada portadora é QAM. Essa DFT deve obedecer à simetria $ X_{N−k} = X_{k}^{*} $, sendo $X_{k}^{*}$ o conjugado de $X_{k}$. Para fazer isso, basta concatenar o vetor $X_{k}$ com $X_{k}^{*}$ na ordem inversa (vide Exemplo 2 Matlab,abaixo). Dessa forma, cria-se, a partir de $K$ símbolos de informação, uma sequência de $N=2K$\n",
    "símbolos, a qual chamaremos de $X_{k}^{'}$.\n",
    "Com isso, realizamos a transformada inversa discreta de Fourier (IDFT) de $X_{k}^{'}$ , obtendo o sinal $x_{n}$ :\n",
    "$$x_{n}= \\frac{1}{\\sqrt{N}}    \\sum_{k=0}^{N-1}X_{k}^{'} e^{j2\\pi n \\frac{k}{N} }$$\n",
    "\n",
    "Sendo $n=1, 2, ..., N-1 $ e $1/√N$ simplesmente um fator de escala. O sinal $x_{n}$ representa as amostras do sinal OFDM $x(t)$ de múltiplas portadoras. Sendo    $ x_{n} = x\\left ( \\frac{nT}{N}   \\right) $, $x(t)$ pode ser representado por:\n",
    "\n",
    "\n",
    "$$x_{n}= \\frac{1}{\\sqrt{N}}    \\sum_{k=0}^{N-1}X_{k}^{'} e^{j2\\pi n \\frac{kt}{T} }$$\n",
    "Para $0\\leq t \\leq T$, sendo $T$ a duração/intervalo do sinal.\n",
    "\n",
    "\n",
    "Exemplo 2 Matlab\n",
    "\n",
    "\n",
    "\n",
    "Gere um sinal OFDM $x(t)$ com $200$ bits pseudoaleatórios, modulação 16-QAM, $T=100$ segundos e $T_{s} =2 $ segundos. Plote a forma de onda de $x(t)$ e, em seguida, compute os valores de $x_{n}$, mostrando graficamente que $ x_{n} = x\\left ( \\frac{nT}{N}   \\right) $.\n",
    "\n",
    "--> ** Solução: **\n",
    "\n",
    "\n",
    "Inicialmente, vamos declarar as principais variáveis. Temos que o número de bits ( n_bits) é igual a $200$, que o tempo de símbolo OFDM (T) é de $100$ segundos e que o tempo de símbolo de portadora única ($T_{S}$ ) é de 2 segundos. Com isso, podemos calcular o número de subportadoras (K), dada pela relação entre $T$ e $T_{S}$ e do número de pontos da DFT ($N=2K$).\n",
    "\n",
    "Temos, então, $50$ subportadoras e $100$ pontos de DFT.\n",
    "\n",
    "Em seguida, iremos gerar os $200$ bits pseudoaleatórios utilizando a função $rand()$. Essa função gera números entre $0$ e $1$ a partir de uma distribuição uniforme, de modo que há igual probabilidade de gerar números maiores que $0,5$ e menores que $0,5$. Subtraindo esse sinal de $0,5$, obteremos, então, valores uniformemente distribuídos entre $-0,5$ e $ 0,5$ . A função $sign()$ substituirá os valores negativos por $-1$ e valores positivos por $1$. Por fim, organizaremos essa sequência, que antes estava em um vetor de uma linha e n_bits colunas, em uma matriz de\n",
    "quatro colunas e n_bits/4 linhas utilizando a função $reshape()$.\n",
    "\n",
    "\n",
    "\n",
    "Com os bits devidamente organizados, podemos então gerar a constelação 16-QAM. Faremos isso de modo que os dois primeiros bits representem a parte real da constelação e os dois últimos a parte imaginária, ou seja, respeitando a constelação mostrada na Figura 5 e Tabela 1. Obteremos assim seq16qam.\n",
    "\n",
    "Para calcular$X_{k}^{′}$ e obtê-lo como um vetor de $1$ linha e $N$ colunas, calculamos a transposta de seq16qam e, para manter a propriedade da simetria da DFT, concatenamos seq16 com seu conjugado na ordem inversa.\n",
    "\n",
    "\n",
    "\n",
    "Os valores de $X$ serão usados para calcular o sinal analógico a ser transmitido, $x(t)$, e a sua versão amostrada, $x_{n}$ . Perceba que o tamanho do vetor $X$ é o dobro do tamanho de seq16 e que os tamanhos de seq16 e de $X$ são iguais a $K$ e $N$, respectivamente.\n",
    "Já mostramos que a transformada inversa discreta de Fourier (IDFT) de $X_{k}^{'}$ , é:\n",
    "\n",
    "\n",
    "$$x_{n}= \\frac{1}{\\sqrt{N}}    \\sum_{k=0}^{N-1}X_{k}^{'} e^{j2\\pi n \\frac{k}{N} }$$\n",
    "Dessa forma, podemos gerar o sinal discreto $x_{n}$.\n",
    "Como visto na Figura 4, o sinal a ser enviado é um sinal analógico e contínuo x(t), obtido a partir da seguinte equação, já vista anteriormente:\n",
    "\n",
    "$$x_{n}= \\frac{1}{\\sqrt{N}}    \\sum_{k=0}^{N-1}X_{k}^{'} e^{j2\\pi n \\frac{kt}{T} }$$\n",
    "\n",
    "Com $ 0\\leq t \\leq T$, sendo $T$ a duração/intervalo do sinal, construímos $x(t)$.\n",
    "\n",
    "x(t) é um sinal representado no tempo composto de todas as subportadoras. Para observar o comportamento de sua envoltória, realizaremos o plot de seu módulo utilizando a função $abs()$. Como mostrado abaixo:"
   ]
  },
  {
   "cell_type": "code",
   "execution_count": 1,
   "metadata": {},
   "outputs": [
    {
     "data": {
      "image/png": "[encoded data removed]",
      "text/plain": [
       "<IPython.core.display.Image object>"
      ]
     },
     "metadata": {},
     "output_type": "display_data"
    }
   ],
   "source": [
    "clc;clear all;close all;\n",
    "%% Parâmetros \n",
    "n_bits = 200;                               % Numero de bits\n",
    "T = 100;                                    % Tempo de símbolo OFDM\n",
    "Ts = 2;                                     % Tempo de símbolo em portadora unica\n",
    "K = T/Ts;                                   % Numero de subportadoras independentes \n",
    "N = 2*K;                                    % DFT de N pontos\n",
    "\n",
    "%% Gerar bits aleatorios\n",
    "dataIn=rand(1,n_bits);                      % Sequência de numeros entre 0 e 1 uniformemente distribuidos\n",
    "dataIn=sign(dataIn-.5);                     % Sequência de -1 e 1\n",
    "dataInMatrix = reshape(dataIn,n_bits/4,4);  % Conversor serial paralelo\n",
    "\n",
    "%% Gerar constelaçao 16-QAM\n",
    "seq16qam = 2*dataInMatrix(:,1) + dataInMatrix(:,2) + 1i*(2*dataInMatrix(:,3)+ dataInMatrix(:,4)); %simbolos 16-QAM\n",
    "seq16=seq16qam';\n",
    "X = [seq16 (seq16(end:-1:1))]; %Para propriedadade da simetria\n",
    "\n",
    "%% Construindo xn\n",
    "xn = zeros(1,N);\n",
    "for n=0:N-1\n",
    "for k=0:N-1\n",
    "xn(n+1) = xn(n+1) + 1/sqrt(N)*X(k+1)*exp(1i*2*pi*n*k/N);\n",
    "end\n",
    "end\n",
    "\n",
    "%% Construindo xt\n",
    "xt=zeros(1, T+1);\n",
    "for t=0:100\n",
    "for k=0:N-1\n",
    "xt(1,t+1)=xt(1,t+1)+1/sqrt(N)*X(k+1)*exp(1i*2*pi*k*t/T);\n",
    "end\n",
    "end\n",
    "plot(abs(xt));\n",
    "title('Envoltoria de x(t)')\n",
    "xlabel('Tempo')\n",
    "ylabel('x(t)')"
   ]
  },
  {
   "cell_type": "markdown",
   "metadata": {},
   "source": [
    "Conforme o gráfico acima, podemos observar um grande defeito da modulação de múltiplas portadoras: o alto Peak-to-Average-Power-Ratio (PAPR) ou seja, a alta relação entre o valor de potência máximo e a média. Altos picos no sinal podem saturar os amplificadores de potência no transmissor,causando distorção de intermodulação no sinal transmitido. No caso dos sistemas LTE, esse é um dos motivos pelos quais o OFDM não é utilizado no uplink, pois o alto PAPR encarece os amplificadores e obriga que eles possuam baixa eficiência de energia, por não poderem apresentar alto ganho. Procura-se, com isso, reduzir a complexidade do equipamento móvel.\n",
    "\n",
    "Em seguida, devemos mostrar que $x_{n} = x\\left ( \\frac{nT}{N} \\right )$, ou seja, que $x_{n}$ é o sinal amostrado de $x(t)$. Para isso, vamos simplesmente plotar o sinal discreto $x_{n}$ utilizando a função steam, sobrepondo-o ao sinal $x(t)$, utilizando o trecho de código abaixo e obtendo o gráfico mostrado na Figura 7."
   ]
  },
  {
   "cell_type": "code",
   "execution_count": null,
   "metadata": {
    "collapsed": true
   },
   "outputs": [],
   "source": [
    "plot(abs(xt));\n",
    "hold on\n",
    "stem(abs(xn), 'r')\n",
    "hold off\n",
    "title('Sinais x(t) e xn')\n",
    "xlabel('Tempo')"
   ]
  },
  {
   "cell_type": "markdown",
   "metadata": {},
   "source": [
    "Como podemos observar, o sinal $x_{n}$ representa bem o sinal $x(t)$, e podemos afirmar que $x_{n} = x\\left (\\frac{nT}{N} \\right )$.\n",
    "\n",
    "\n",
    "## Recepção OFDM\n",
    "\n",
    "Um esquema simplificado do receptor OFDM é mostrado na Figura 8.\n",
    "\n",
    "\n",
    "FIGURA@@@@@@@@@@@@@@@@@@@@\n",
    "\n",
    "O primeiro bloco, mostrado como um conversor A $\\rightarrow $D (analógico-digital) é simplesmente a amostragem do sinal $x(t) $ que chega ao receptor, obtemos com isso o sinal amostrado $x_{n}$. O segundo bloco é a transformada discreta de Fourier (DFT), que faremos com $x_{n}$ para obtermos $X_{k}$, ou seja, os símbolos representados por pontos na constelação 16-QAM. A DFT é dada por:\n",
    "\n",
    "$$ X_{k} = \\sum_{j=1}^{N} x(j) \\cdot  \\omega_{N}^{(j-1)(K-1)}$$\n",
    "\n",
    "Onde $k=0, 1, ..., N-1$.\n",
    "\n",
    "Entretanto, como veremos no Exemplo 3 de Matlab, esses pontos $X_{k}$ obtidos podem não ser exatamente aqueles valores pré-determinados na Tabela 1. Isso ocorre devido ao ruído acrescentado ao sinal durante sua passagem pelo canal. Será, então, realizada uma decisão sobre qual é o símbolo que $X_{k}$ representa. Faremos isso a partir da proximidade de $X_{ k}$ com a constelação 16-QAM.\n",
    "\n",
    "\n",
    "Por exemplo, caso $X_{1}= 1,5 + j1,5$, ele será interpretado por 1 + j1, que é o valor da constelação 16-QAM mais próximo, como podemos ver na Figura 9, onde a constelação 16-QAM é representada por pontos azuis e o valor suposto de $X_{1}$ é representado por uma cruz vermelha. Por fim, concluímos que $X_{1}$ representa a sequência de bits $1010$. \n",
    "\n",
    "\n",
    "\n",
    "\n",
    "\n",
    "\n",
    "FIGURA@@@@@@@@@@@@@@@@@@@@\n",
    "\n",
    "\n",
    "\n",
    "\n",
    "\n",
    "--> **Exemplo 3 Matlab**\n",
    "Considere o mesmo sinal gerado da situação do Exemplo 2, mas supondo que o sinal enviado foi corrompido por um ruído aditivo gaussiano branco (AWGN) de média zero e variância $\\sigma=2$ (a ser escolhida pelo usuário). O sinal recebido amostrado $r_{n}$ será, então:\n",
    "$$r_{n} = x_{n} + ruido$$\n",
    "\n",
    "\n",
    "Calcule os valores de $r_{n}$, sua DFT $Y_{k}$, plotando $Y_{k}$ e os valores da constelação 16-QAM. Então estime os valores dos símbolos recebidos $Z_{k}$ e contabilize quantos símbolos foram recebidos erroneamente. Utilize $\\sigma =\\left \\{ 2, 0.5, 1 \\right \\}$\n",
    "- Solução:\n",
    "\n",
    "Inicialmente, vamos criar um novo script e definir as variáveis, de forma parecida com a que fizemos no Exemplo 2. A única diferença será o acréscimo da variância do ruído, que será adicionado pelo usuário"
   ]
  },
  {
   "cell_type": "code",
   "execution_count": null,
   "metadata": {
    "collapsed": true
   },
   "outputs": [],
   "source": [
    "n_bits = 200;\n",
    "% Numero de bits\n",
    "T = 100;\n",
    "% Tempo de símbolo OFDM\n",
    "Ts = 2;\n",
    "% Tempo de símbolo em portadora unica\n",
    "K = T/Ts;\n",
    "% Numero de subportadoras independentes\n",
    "N = 2*K;\n",
    "% DFT de N pontos\n",
    "variance=input('Forneca o valor da variancia: '); % variância do ruido"
   ]
  },
  {
   "cell_type": "markdown",
   "metadata": {},
   "source": [
    "Em seguida, vamos gerar os $200$ bits aleatórios, a constelação 16-QAM e o sinal $x_{n}$ , da mesma forma que fizemos no Exemplo 2."
   ]
  },
  {
   "cell_type": "code",
   "execution_count": null,
   "metadata": {
    "collapsed": true
   },
   "outputs": [],
   "source": [
    "%Gerar bits aleatorios\n",
    "dataIn=rand(1,n_bits); %sequencia de numeros entre 0 e 1 uniformemente distribuidos\n",
    "dataIn=sign(dataIn-.5); %sequência de -1 e 1\n",
    "dataInMatrix = reshape(dataIn,n_bits/4,4);\n",
    "% Conversor serial paralelo\n",
    "% Gerar constelaçao 16-QAM\n",
    "seq16qam = 2*dataInMatrix(:,1) + dataInMatrix(:,2) + 1i*(2*dataInMatrix(:,3)+ dataInMatrix(:,4)); %simbolos 16-QAM\n",
    "seq16=seq16qam';\n",
    "X = [seq16 conj(seq16(end:-1:1))]; %Para propriedadade da simetria\n",
    "% Construindo xn\n",
    "xn = zeros(1,N);\n",
    "for n=0:N-1\n",
    "for k=0:N-1\n",
    "xn(n+1) = xn(n+1) + 1/sqrt(N)*X(k+1)*exp(1i*2*pi*n*k/N);\n",
    "end\n",
    "end"
   ]
  },
  {
   "cell_type": "markdown",
   "metadata": {},
   "source": [
    "Após isso, iremos gerar o ruído AWGN, que possui influência no eixo imaginário e real, isto é, influencia na amplitude e na fase do sinal. Utilizando a raiz da variância (desvio padrão), geraremos o ruído e vamos acrescentá-lo ao sinal $x_{n}$, obtendo o sinal recebido $r_{n}$."
   ]
  },
  {
   "cell_type": "code",
   "execution_count": null,
   "metadata": {
    "collapsed": true
   },
   "outputs": [],
   "source": [
    "%Adição de ruido\n",
    "noise = sqrt(variance)*randn(1,N)+1i*sqrt(variance)*randn(1,N);\n",
    "%sinal recebido = xn+ruido\n",
    "rn = xn+noise;"
   ]
  },
  {
   "cell_type": "markdown",
   "metadata": {},
   "source": [
    "Com o sinal recebido amostrado $r_{n}$ , vamos calcular sua DFT, obtendo $Y_{k}$, da seguinte maneira:\n"
   ]
  }
 ],
 "metadata": {
  "kernelspec": {
   "display_name": "Matlab",
   "language": "matlab",
   "name": "matlab"
  },
  "language_info": {
   "codemirror_mode": "octave",
   "file_extension": ".m",
   "help_links": [
    {
     "text": "MetaKernel Magics",
     "url": "https://github.com/calysto/metakernel/blob/master/metakernel/magics/README.md"
    }
   ],
   "mimetype": "text/x-matlab",
   "name": "matlab",
   "version": "0.14.3"
  }
 },
 "nbformat": 4,
 "nbformat_minor": 2
}
