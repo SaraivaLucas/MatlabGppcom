{
 "cells": [
  {
   "cell_type": "code",
   "execution_count": null,
   "metadata": {},
   "outputs": [],
   "source": [
    "import numpy as np\n",
    "from scipy import stats\n",
    "import matplotlib.pyplot as plt \n",
    "# Distribuição\n",
    "mu = 0                                       # Média\n",
    "sigma = 1.0                                  # Desvio padrâo\n",
    "T=0.001                                      # Taxa de amostragem\n",
    "x=np.arange(-2,2+T,T)                        # Eixo x       \n",
    "DistNorm=stats.norm.pdf(x,mu,sigma)          # Distribuição normal    \n",
    "# Cálculo da probabilidade\n",
    "limite_esquerdo = np.max(np.where(x<-sigma))\n",
    "limite_direito = np.min(np.where(x>sigma))\n",
    "indices = np.arange(limite_esquerdo+1,limite_direito)\n",
    "prob1=np.sum(DistNorm[indices])*T*100        # Probabilidade de um evento ocorrer no intervalo\n",
    "plt.plot(x,DistNorm,'k')                                       \n",
    "plt.title('Probabilidade de = ' + str(prob1))      # Mostra valor verdadeiro de prob1\n",
    "plt.fill_between(x[indices],DistNorm[indices],facecolor='midnightblue')\n",
    "plt.show()\n",
    "# calculando diretamente da integral\n",
    "from sympy import *\n",
    "init_printing(use_unicode=False, wrap_line=False, no_global=True)\n",
    "x, f = symbols('x f')\n",
    "f = 1/(sqrt(2*pi*sigma**2))*exp(-(x-mu)**2/(2*sigma**2))\n",
    "prob2 = integrate(f, (x,-sigma,sigma))\n",
    "print(\"Probabilidade pela integral da fórmula da PDF = \"+str(prob1)+\" %\")\n",
    "print('Probabilidade pela área da PDF {:02.4f}  %'.format(prob2*100))\n",
    "plt.figure(1,[9,6])"
   ]
  }
 ],
 "metadata": {
  "kernelspec": {
   "display_name": "Python 3",
   "language": "python",
   "name": "python3"
  },
  "language_info": {
   "codemirror_mode": {
    "name": "ipython",
    "version": 3
   },
   "file_extension": ".py",
   "mimetype": "text/x-python",
   "name": "python",
   "nbconvert_exporter": "python",
   "pygments_lexer": "ipython3",
   "version": "3.4.5"
  }
 },
 "nbformat": 4,
 "nbformat_minor": 2
}
