{
 "cells": [
  {
   "cell_type": "markdown",
   "metadata": {},
   "source": [
    "# Desvanecimento plano\n",
    "\n",
    "\n",
    "## Manifestações do canal\n",
    "\n",
    "As transmissões de ondas eletromagnéticas são principalmente afetadas por 2 diferentes fenômenos fisicos:\n",
    "\n",
    "- **Reflexão:** Fenômeno fisico que ocorre quando uma onda eletromagetica colide com um objeto de larga dimensões superiores à seu comprimento de onda, sendo refletida sem percorrer seu caminho original.\n",
    "\n",
    "- **Difração: ** Refere-se à vários fenômenos que ocorre quando o caminho de onda é obstruído entre transmissor e receptor por uma superficie com irregularidades ou pequenas aberturas. Como se dobrasse as ondas ao longo dos pequenos obstáculos espalhando-se.\n",
    "\n",
    "Ambos são formas de interação da onda com o meio de propagação sendo sujeito também a perda de percurso mesmo em espaço livre.\n",
    "\n",
    "\n",
    "\n",
    "A única caracteristica num canal wireless é o fenômeno chamado de desvanecimento, variação da amplitude do sinal no tempo e na frequência. Ao contrario do ruido aditivo, o desvanecimento é uma outra forma de atenuação do sinal caracterizada como disturbio não-aditivo. \n",
    "\n",
    "\n",
    "Existem basicamente duas caracteristicas de canais de radio que podemos descrever matematicamente. Um sinal chega ao receptor por vários caminhos de propagação, cada qual possui determinado atraso devido a diferença de percurso por diversas reflexões. A variação do sinal no tempo pode ocorrer tanto pela variação na proprio meio quanto pela variação relativa de posicionamento entre transmissor e receptor. Como resultado à tais variações, a resposta do canal varia com o tempo. \n",
    "\n",
    "Para obter uma descrição estatística do canal, considere a transmissão de uma onda portadora não modulada \n",
    "$$ s(t)= A \\cdot cos(2 \\pi f_{c} t) $$\n",
    "\n",
    "O sinal recebido na ausência de ruído pode ser expresso da seguinte forma:\n",
    "\n",
    "$$ x(t)= A \\sum_{n} \\alpha _{n}(t) \\cdot cos[2 \\pi f_{c} (t - \\tau _{n}(t))] $$\n",
    "$$ = A \\cdot Re  \\left [  \\sum_{n} \\alpha _{n}(t) e^{-j 2 \\pi f_{c} \\tau _{n}(t)} \\cdot e^{j 2 \\pi f_{c} t}  \\right ]  $$\n",
    "$$ = Re \\left [c(t) \\cdot e^{j 2 \\pi f_{c} t}\\right ] $$\n",
    "\n",
    "Em que $ \\alpha _{n} (t) $ é o fator de atenuação variante do tempo com o $n$ ésimo caminho e $\\tau_{n}(t)$ corresponde ao atraso de tempo. O sinal de valor complexo:\n",
    "$$c(t) = \\sum_{n} \\alpha _{n}(t) \\cdot e^{-j 2 \\pi f_{c} \\tau _{n}(t)}   $$\n",
    "$$ = \\sum_{n} \\alpha _{n}(t) \\cdot e^{-j \\phi _{n}(t)}   $$\n",
    "representa a resposta do canal como uma exponencial complexa. Apesar de a entrada do sinal ser de uma frequencia só (sinal monocromático) a saida do canal consiste em um sinal que contém multiplas componentes de frequência, as quais foram gerada pelo resultado das variações do tempo na resposta do canal. \n",
    "\n",
    "O modelo de canal não seletivo na frequência ilustrado na figura abaixo aplica-se quando um sinal transmitido com largura de banda $W$ que tal que $W<< B_{cb}$. Outro caso ocorre quando o tempo de coerência $T_{ct}$ do canal é maior que a duração do sinal $T$ ($T_{ct}>> T$).\n",
    "\n",
    "\n",
    "![Figura01](./handsOn11_matlab_figs/desvanecimento_plano.png)\n",
    "\n",
    "\n",
    "\n",
    "\n",
    "\n",
    "O valor complexo do ganho do canal pode ser expressado da seguinte forma:\n",
    "\n",
    "\n",
    "$$  c(t)= c_{r}(t)+jc_{i}(t) =\\alpha(t) \\cdot e^{j\\phi(t)} $$\n",
    "em que\n",
    "$$\\alpha(t)=\\sqrt{c_{r}^{2}(t)+c_{i}^{2}(t)} $$\n",
    "$$ \\phi(t)=arctan \\left ( \\frac{c_{i}}{c_{r}} \\right ) $$\n",
    "\n",
    "quando c(t) consiste em uma série de componentes de multipercurso tendo amplitudes aleatórias e fases uniformemente distribuidas, as duas componentes $c_{r}(t)$ e  $c_{i}(t)$ são modelados geralmente com média zero. Portanto, $\\alpha (t)$ é caracterizado estatisticamente como uma distribuição de probabilidade do tipo Rayleigh e $\\phi (t)$ é unifromemente distribuido num intervalo de $(0,2\\pi)$. Como consequência, o canal é chamado de Rayleigh Fading channel. A amplitude do sinal de desvanecimento de Rayleigh é descrita pela seguinte equação:\n",
    "\n",
    "$$f(\\alpha)=\\frac {\\alpha^{2}}{\\sigma^{2}} \\cdot  e^{\\frac{-\\alpha^{2}}{\\sigma^{2}}}$$ Para\n",
    "$$\\alpha \\geq 0 $$\n",
    "\n",
    "Sendo $f(\\alpha)=0$ para $\\alpha < 0 $. Calcula-se o parâmetro $\\sigma^{2}=E(c_{r}^{2})=E(c_{i}^{2})$.\n",
    "\n",
    "\n",
    "\n",
    "\n",
    "\n"
   ]
  },
  {
   "cell_type": "code",
   "execution_count": 2,
   "metadata": {},
   "outputs": [
    {
     "data": {
      "image/png": "[encoded data removed]",
      "text/plain": [
       "<IPython.core.display.Image object>"
      ]
     },
     "metadata": {},
     "output_type": "display_data"
    }
   ],
   "source": [
    "% Rayleigh.m\n",
    "clc; clear all;close all;\n",
    "%% Parâmetros\n",
    "N=20000;                                    % Número de amostras\n",
    "x=0:0.1:5;                                  % Eixo x\n",
    "sigma=1;                                    % Parâmetro Rayleigh\n",
    "u=rand(1,N);                                % Amostras aleatórias\n",
    "r=sigma*sqrt(-2*log(u));                    % Dados aleatorios da distribuição Rayleigh\n",
    "r_ac= x/(sigma^2).*exp(-(x/sigma).^2/2);    % Rayleigh PDF\n",
    "\n",
    "%% plotting\n",
    "subplot(2,1,1)\n",
    "hist(r,x)\n",
    "title('Histograma para N=20000 amostras')\n",
    "axis([0 5 0 1500])\n",
    "subplot(2,1,2)\n",
    "plot(x,r_ac)\n",
    "title('Rayleigh PDF')"
   ]
  },
  {
   "cell_type": "markdown",
   "metadata": {
    "collapsed": true
   },
   "source": [
    "Em sistemas wireless, existem duas formas de comportamento do meio as quais influenciam diretamente na recepção do sinal. A primeira é a LOS(Line-of-Sight) caracterizada pela ligação direta da antena transmissora com a antena receptora. Neste caso a função densidade de probabilidade do sinal recebido em relação aos seus atrasos é da forma RICE (Rician).\n",
    "![Figura02](./handsOn11_matlab_figs/LOS.png)\n",
    "Sua caracteristica principal é que existe componentes com intensidade muito maior que a maioria das outras componentes.\n",
    "\n",
    "A segunda é a NLOS (Non-Line-of-Sight) caracterizada pela ausencia de componentes fortes devido ao sombreamento causado por algum objeto de dimensões maior que o comprimento de onda do sinal transmitido que intercepta o caminho da onda. \n",
    "![Figura03](./handsOn11_matlab_figs/NLOS.png)\n",
    "Devido as reflexões dos sinaisa função densidade de probabilidade do sinal recebido em relação aos seus atrasos é da forma Rayleigh. Isso \n",
    "Se alguma componente de dispersão é muito mais fortes que as outras componentes, o gráfico de dispersão deixa de ser Rayleigh e passa a se comportar como uma distribuição tipo Rice (Rician), sendo então caracterizado desvanescimento Rice.\n",
    "\n",
    "O sinal recebido é resultado da soma de todos os infinitos sinais refletidos do meio.\n",
    "\n",
    "\n",
    "Pelo teorema do limite central, o sinal recebido pode ser representado por uma variável Gausiana complexa, de tal forma que $W=W_{1}+W_{2}$ sendo componente real e complexas independentes entre si. Essas variaveis gaussianas variam de meio para meio cuja média é sempre zero e uma variância de $\\sigma^{2}$. De tal forma que \n",
    "\n",
    ".\n",
    ".\n",
    ".\n",
    ".\n",
    ".\n",
    "\n",
    "\n"
   ]
  },
  {
   "cell_type": "code",
   "execution_count": null,
   "metadata": {
    "collapsed": true
   },
   "outputs": [],
   "source": []
  }
 ],
 "metadata": {
  "kernelspec": {
   "display_name": "Matlab",
   "language": "matlab",
   "name": "matlab"
  },
  "language_info": {
   "codemirror_mode": "octave",
   "file_extension": ".m",
   "help_links": [
    {
     "text": "MetaKernel Magics",
     "url": "https://github.com/calysto/metakernel/blob/master/metakernel/magics/README.md"
    }
   ],
   "mimetype": "text/x-matlab",
   "name": "matlab",
   "version": "0.14.3"
  }
 },
 "nbformat": 4,
 "nbformat_minor": 2
}
