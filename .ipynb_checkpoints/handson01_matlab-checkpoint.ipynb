{
 "cells": [
  {
   "cell_type": "markdown",
   "metadata": {},
   "source": [
    "# Handson 01 -Matlab\n",
    "##  Autor: Lucas Bezerra Dantas Saraiva\n",
    "\n",
    "------------\n",
    "\n",
    "## Instalação e configuração da máquina virtual UBUNTU 14.04"
   ]
  },
  {
   "cell_type": "markdown",
   "metadata": {},
   "source": [
    "## Criação de máquina virtual Ubuntu 14.04 no Windows"
   ]
  },
  {
   "cell_type": "markdown",
   "metadata": {},
   "source": [
    "**Passo 1**: Baixe o VMware em seu computador clicando no [Link de download](http://www.vmware.com/products/player/playerpro-evaluation.html)\n",
    "\n",
    "\n",
    "<img src =\"./handsOn1_matlab_figs/print_vmware_download.png\" />\n",
    "\n",
    "**Passo 2**: Baixe o Ubuntu 10=4.04-5\n",
    "- Versão 64 Bits http://releases.ubuntu.com/trusty/ubuntu-14.04.5-desktop-amd64.iso\n",
    "- Versão 32 Bits http://releases.ubuntu.com/trusty/ubuntu-14.04.5-desktop-i386.iso\n",
    "\n",
    "**Passo 3**: Após baixado, abra o VMware e clique em Create a New Virtual Machine:\n",
    "<img src = \"./handsOn1_matlab_figs/VMware_01.png\" style=\"width:608px;height:456px;\">\n",
    "\n",
    "**Passo 4**: Na tela seguinte clique no browser e indique o caminho do Ubuntu 14.04-5:\n",
    "\n",
    "<img src = \"./handsOn1_matlab_figs/VMware_02.png\" style=\"width:608px;height:456px;\">\n",
    "\n",
    "**Passo 5**: Inclua as credenciais da máquina Linux:\n",
    "<img src = \"./handsOn1_matlab_figs/VMware_03.png\" style=\"width:608px;height:456px;\">\n",
    "\n",
    "\n",
    "**Passo 6**: Inclua um nome e a pasta que será armazenada :\n",
    "<img src = \"./handsOn1_matlab_figs/VMware_04.png\" style=\"width:608px;height:456px;\">\n",
    "\n",
    "\n",
    "**Passo 7**: Especifique 40 GB de espaço em HD:\n",
    "<img src = \"./handsOn1_matlab_figs/VMware_05.png\" style=\"width:608px;height:456px;\">\n",
    "\n",
    "\n",
    "**Passo 8**: Clique no botão de coustomizar a máquina:\n",
    "<img src = \"./handsOn1_matlab_figs/VMware_06.png\" style=\"width:608px;height:456px;\">\n",
    "\n",
    "\n",
    "**Passo 9**: Customize sua máquina virtual2 GB de memória:\n",
    "<img src = \"./handsOn1_matlab_figs/VMware_07.png\" style=\"width:608px;height:456px;\">\n",
    "\n",
    "**Passo 10**: Clique em processadores e coloque 2 núcleos:\n",
    "<img src = \"./handsOn1_matlab_figs/VMware_08.png\" style=\"width:608px;height:456px;\">\n",
    "\n",
    "\n",
    "**Passo 11**: Finalize sua máquina e prossiga com a instalação:\n",
    "<img src = \"./handsOn1_matlab_figs/VMware_09.png\" style=\"width:608px;height:456px;\">\n",
    "<img src = \"./handsOn1_matlab_figs/VMware_10.png\" style=\"width:608px;height:456px;\">\n",
    "<img src = \"./handsOn1_matlab_figs/VMware_11.png\" style=\"width:608px;height:456px;\">"
   ]
  },
  {
   "cell_type": "markdown",
   "metadata": {},
   "source": [
    "## Iniciando a máquina virtual"
   ]
  },
  {
   "cell_type": "markdown",
   "metadata": {},
   "source": [
    "** Passo 1**: Abra o VMware no iniciar:\n",
    "<img src = \"./handsOn1_matlab_figs/MIniciar_VMware.png\" style=\"width:408px;height:456px;\">\n",
    "** Passo 2**: Abra a máquina virtual que você criou, clique em Open a Virtual Machine:\n",
    "<img src = \"./handsOn1_matlab_figs/VMware_32.png\" style=\"width:608px;height:456px;\">\n",
    "** Passo 3**: Abra a máquina virtual que você criou:\n",
    "<img src = \"./handsOn1_matlab_figs/VMware_14.png\" style=\"width:608px;height:456px;\">\n",
    "\n",
    "Podem aparecer algumas janelas de alerta, como indicando a falta de memória reservada para swap ou acerca de dispositívos removíveis conectados ao computador. \n",
    "\n",
    "** Passo 4**: Entre com sua senha como uma máquina normal.\n",
    "<img src = \"./handsOn1_matlab_figs/VMware_16.png\" style=\"width:608px;height:456px;\">\n"
   ]
  },
  {
   "cell_type": "markdown",
   "metadata": {},
   "source": [
    "## Instalação do Matlab 2015a"
   ]
  },
  {
   "cell_type": "markdown",
   "metadata": {
    "collapsed": true
   },
   "source": [
    "**Passo 1**: Copie install.jar da pasta \"fixr2015arel\" para a pasta java/jar\n",
    "> cp fixr2015arel/install.jar java/jar\n",
    "\n",
    "**Passo 2**: Mude a permissão de toda a pasta do Matlab, digitando (se você estiver dentro da pasta matlab_temp):\n",
    "> chmod 777 -R ../matlab_temp\n",
    "\n",
    "**Passo 3**: Chame o comando de instalação, digitando:\n",
    "> sudo ./install\n",
    " \n",
    " - Escolha instalação \"File Installation Key\"\n",
    " - Use o seguinte serial 58691-35070-25550-28046-23042\n",
    " - Pronto, o Matlab será instalado na pasta \" /usr/local/MATLAB/MATLAB_Production_Server/R2015a/”\n",
    "\n",
    "**Passo 4**: Depois de instalado, copiei o arquivo \"libmwservices.so\" da pasta \"fixr2015arel\" para a pasta \"/usr/local/MATLAB/MATLAB_Production_Server/R2015a/bin/glnxa64”\n",
    "> sudo cp fixr2015arel/libmwservices.so  /usr/local/MATLAB/MATLAB_Production_Server/R2015a/bin/glnxa64\n",
    "\n",
    "**Passo 5**:  Instalar suporte do Matlab no Ubuntu (lembrar que a pasta do Matlab é /usr/local/MATLAB/MATLAB_Production_Server/R2015a/):\n",
    "> sudo apt-get install matlab-support\n",
    "\n",
    " - Será pedido para ativar o matlab. Escolha para “active manually without internet” e aponte para o arquivo de licença  “fixr2015arel/Standalone License.lic”\t\n",
    "\n",
    "**Passo 6**: Mudar as permissões de pasta para o kernel do jupyter notebook funcionar.\n",
    "> sudo chown gppcom -R ~/.matlab\n"
   ]
  },
  {
   "cell_type": "markdown",
   "metadata": {},
   "source": [
    "## Intalação do suporte ao Matlab no Jupiter Notebook (Kernel do Matlab)"
   ]
  },
  {
   "cell_type": "markdown",
   "metadata": {},
   "source": [
    "\n",
    "**Passo 1**: Instalação do Anaconda (pule esse passo se o Anaconda já estiver instalado)\n",
    "- Acesse a [página de download](https://www.continuum.io/downloads)\n",
    "- Clique na aba Download for Linux\n",
    "- Baixe a versão adequada do Python 3 a seu sistema operacional (32 ou 64 bits). Por via das dúvidas, confira esta informação via terminal:\n",
    "  - Abra o terminal (Ctrl+Alt+T)\n",
    "  - Digite o comando 'uname -m'. Normalmente retorna 'i686', 'x86' ou 'x86_64'. Os dois primeiros retornos indicam 32 bits, e o último indica um sistema de 64 bits.\n",
    "  - Quando o download for concluído, entre na pasta Downloads e execute um dos comandos abaixo, para 64 ou 32 bits respectivamente:\n",
    "    > bash Anaconda3-4.3.1-Linux-x86_64.sh\n",
    "    \n",
    "    ou\n",
    "\n",
    "    > bash Anaconda3-4.3.1-Linux-x88.sh \n",
    "\n",
    "    - A instalação começará, e o usuário deve seguir confirmando os requests com 'Enter' ou 'yes'.\n",
    "    - Responda “yes” para: Do you wish the installer to prepend the Anaconda3 install location to PATH in your ~/.bashrc ? \n",
    "\n",
    "**Passo 2**: Precisamos do Pyhton 3.4, assim usaremos o Anaconda para realizar o Downgrade para o Pyhton 3.4. \n",
    "  - Feche o terminal atual, abra outro  e digite:\n",
    "> conda install python=3.4\n",
    "\n",
    "  - Para saber o requisitos do sistema (versões do Pyhton e do Matlab), consulte [fonte](https://www.mathworks.com/help/matlab/matlab_external/system-requirements-for-matlab-engine-for-python.html). \n",
    "\n",
    "**Passo 3**: Instalar o Matlab Engine para Python, digite (estamos supondo que o seu Matlab está instalado na pasta “/usr/local/MATLAB/MATLAB_Production_Server/R2015a”) [fonte](https://www.mathworks.com/help/matlab/matlab_external/install-the-matlab-engine-for-python.html?requestedDomain=www.mathworks.com):\n",
    "\n",
    "> cd \"/usr/local/MATLAB/MATLAB_Production_Server/R2015a/extern/engines/python\"\n",
    " \n",
    "    > sudo python3 setup.py install --user\n",
    "\n",
    "**Passo 4**: Instalar o Kernel do Matlab Jupyter Notebook, digite:\n",
    "\n",
    "> pip install matlab_kernel\n",
    "      \n",
    "    > python3 -m matlab_kernel install --user\n",
    "\n",
    "**Passo 5**: Mudar as permissões de pasta para o kernel do jupyter notebook funcionar. Digite (os comandos abaixo consideram que o usuário é **gppcom**):\n",
    "> sudo chown gppcom -R ~/.matlab\n",
    "  \n",
    "    > sudo chown gppcom -R ~/.local/lib/\n",
    "\n",
    "[Fonte](https://github.com/Calysto/)"
   ]
  }
 ],
 "metadata": {
  "kernelspec": {
   "display_name": "Matlab",
   "language": "matlab",
   "name": "matlab"
  },
  "language_info": {
   "codemirror_mode": "octave",
   "file_extension": ".m",
   "help_links": [
    {
     "text": "MetaKernel Magics",
     "url": "https://github.com/calysto/metakernel/blob/master/metakernel/magics/README.md"
    }
   ],
   "mimetype": "text/x-matlab",
   "name": "matlab",
   "version": "0.14.2"
  }
 },
 "nbformat": 4,
 "nbformat_minor": 2
}
