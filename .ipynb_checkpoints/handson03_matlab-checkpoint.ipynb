{
 "cells": [
  {
   "cell_type": "markdown",
   "metadata": {},
   "source": [
    "# Handson 03 -Matlab\n",
    "## 1.1 Autor: Lucas Bezerra Dantas Saraiva\n",
    "---------"
   ]
  },
  {
   "cell_type": "markdown",
   "metadata": {},
   "source": [
    "## Sinais "
   ]
  },
  {
   "cell_type": "markdown",
   "metadata": {},
   "source": [
    "Sinais são funções de uma ou mais variáveis que fornecem informações  sobre um  determinado  fenômeno (LATHI,  1998;  PROAKIS;  MANOLAKIS,  1996). Estes podem ser caracterizados de duas formas:\n"
   ]
  },
  {
   "cell_type": "markdown",
   "metadata": {},
   "source": [
    "- Sinais contínuos no tempo: Um sinal é de tempo contínuo se a sua amplitude varia continuamente com o tempo \"t\". Isso significa que para cada tempo \"t\" o sinal y(t) é definido com um valor real.\n",
    "\n",
    "<img src = \"./handsOn3_matlab_figs/senoide_continua.jpg\">"
   ]
  },
  {
   "cell_type": "markdown",
   "metadata": {},
   "source": [
    "\n",
    "- Sinais discretos no tempo: Um sinal de tempo discreto pode ser definido em instantes isolados, separados geralmente  de  maneira  uniforme. Dessa forma, apenas números inteiros \"n\" a função será definida.\n",
    "\n",
    "<img src = \"./handsOn3_matlab_figs/senoide_discreta.jpg\">"
   ]
  },
  {
   "cell_type": "markdown",
   "metadata": {},
   "source": [
    "Exemplos clássicos de sinais seriam: \n",
    "- Ondas elétromagnéticas;\n",
    "- Ondas mecânicas (som);\n",
    "- Tensão e corrente:"
   ]
  },
  {
   "cell_type": "markdown",
   "metadata": {},
   "source": [
    "As ondas podem ser também classificadas como ondas transversais as quais só se propagam em uma direção (luz, tensão ...), e ondas longitudinais que podem se propagar em várias direções (Som, ondas do mar...). No nosso caso, estudaremos as ondas sonoras, as quais podem ser descritas da seguinte forma:\n",
    "$$ y(t)= A*sen(ω*t)$$\n",
    "sendo: \n",
    "- A = Amplitude \n",
    "- ω = 2*π*f Frequência angular\n",
    "- f = Frequência"
   ]
  },
  {
   "cell_type": "markdown",
   "metadata": {},
   "source": [
    "Ondas sonoras são produzidas por equipamentos osciladores, em geral caixas de som. Porém, o ser humano apenas consegue captar vibrações com frequências compreendidas entre os 20 Hz e os 20.000 Hz. Além disso, frequências superiores a 13kHz começam a ser desagradável.\n",
    "\n",
    "Os tons (Dó, Ré ,Mi, ...) são oscilações em uma determinada frequência. A tabela abaixo mostra as frequências (f) das notas musicais e sua relação com a nota dó em 512Hz:"
   ]
  },
  {
   "cell_type": "markdown",
   "metadata": {},
   "source": [
    "| Notas |   Frequências (Hz)         | Razão  |\n",
    "| ------ |:-------------:|:-----:|\n",
    "| Dó (C)    | 512 |  1 |\n",
    "| Ré   (D) | 576      |    $^9/_8$ |\n",
    "| Mi    (E) | 640      |     $^5/_4$ |\n",
    "| Fá    (F) | 682.67      |     $^4/_3$ |\n",
    "| Sol    (G)| 768      |     $^3/_2$ |\n",
    "| Lá     (A)| 853.3      |    $^5/_3$|\n",
    "| Si     (B)| 960      |   $^{15}/_8$ |\n",
    "| Dó     (C)| 1024 |  2 |\n"
   ]
  },
  {
   "cell_type": "markdown",
   "metadata": {},
   "source": [
    "Perceba que quando multiplicamos a frequência da nota Dó por 2, obtemos outra nota Dó, porém mais aguda. Isso significa que o Dó de frequencia 1024Hz é uma harmônica do Dó de frequencia 512Hz. \n"
   ]
  },
  {
   "cell_type": "markdown",
   "metadata": {},
   "source": [
    "# Plotagem de sinal de áudio"
   ]
  },
  {
   "cell_type": "markdown",
   "metadata": {
    "collapsed": true
   },
   "source": [
    "### Passo 1: Gerando uma onda senoidal"
   ]
  },
  {
   "cell_type": "markdown",
   "metadata": {},
   "source": [
    "Para gerar uma onda senoidal deveremos abrir o matlab. Crie um novo script, clicando na função new script. Lá montaremos  uma sequência de códigos para montarmos a função de onda do nosso sinal determinando seus parâmetros e em seguida reproduziremos."
   ]
  },
  {
   "cell_type": "markdown",
   "metadata": {},
   "source": [
    "No script, faça:"
   ]
  },
  {
   "cell_type": "code",
   "execution_count": 1,
   "metadata": {
    "collapsed": false
   },
   "outputs": [
    {
     "data": {
      "image/png": "[encoded data removed]",
      "text/plain": [
       "<IPython.core.display.Image object>"
      ]
     },
     "metadata": {},
     "output_type": "display_data"
    }
   ],
   "source": [
    "% Parâmetros da onda\n",
    "tf = 1; % Tempo de duração da nota\n",
    "fc = 512; % Frequência da nota Dó\n",
    "fs = 100*fc; % Frequencia de amostragem da nota. \n",
    "t = 0:1/fs:tf; % Vetor tempo. Para cada elemento do vetor t, haverá um elemento em y correspondente.\n",
    "A = 1;  % Amplitude do sinal. (0~1)\n",
    "y=A*cos(2*pi*fc*t); % Sinal senoidal\n",
    "\n",
    "% Reproduzindo a nota:\n",
    "p = audioplayer(y, fs); \n",
    "play(p);  \n",
    "plot(t,y)  \n",
    "axis([0 0.02 -2 2 ]);"
   ]
  },
  {
   "cell_type": "markdown",
   "metadata": {},
   "source": [
    "A função audioplay(y,fs) é responsável em criar um objeto para reproduzir o áudio. Basicamente é responsável por transformar uma função y em um áudio. Em seguida a função play serve apenas para executar o som gerado.\n",
    "\n",
    "Também queremos visualizar a onda reproduzida. Para isso montamos a função plot (t,y). O axis é responsável pela determinação dos eixos do nosso gráfico, com os dois primeiros argumentos determinando os limites do eixo t e os dois últimos o eixo Y.\n",
    "\n",
    "A nota reproduzida corresponde ao tom Dó (512Hz). Caso quiséssemos reproduzir a nota Ré, mudaríamos o argumento da senoide conforme a tabela, agora será \n",
    "\n",
    "$$y=A*cos(2*(9/8)*pi*fc*t);$$\n",
    "\n",
    "Pode-se perceber que a onda agora está levemente mais aguda. Para qualquer outra nota, podemos reproduzi-la apenas consultando a tabela de notas acima e substituindo a frequência da da onda y.\n",
    "\n",
    "A imagem ilustra as notas musicais com 7 frequências diferentes:"
   ]
  },
  {
   "cell_type": "markdown",
   "metadata": {},
   "source": [
    "<img src = \"./handsOn3_matlab_figs/senoide.jpg\">"
   ]
  },
  {
   "cell_type": "markdown",
   "metadata": {},
   "source": [
    "### Passo 2: Reprodução de músicas"
   ]
  },
  {
   "cell_type": "markdown",
   "metadata": {},
   "source": [
    "#### Definições de parâmetros da onda"
   ]
  },
  {
   "cell_type": "markdown",
   "metadata": {},
   "source": [
    "Para criar/reproduzir músicas será necessário apenas formar uma sequência de notas. Uma das formas se dá com a formação de um vetor para armazenar a sequência que compõe a música. Faremos um laço com a função audioplay(y,fs) e play(p) para reproduzir em sequência. De início, nosso vetor será:\n",
    "\n",
    "     vtmusic=[1 2 3 4 5 6 7];\n",
    "Isso corresponderá às notas Dó, Ré, Mi, Fá, Sol, Lá e Si respectivamente. Em seguida determinamos a frequência de Dó\n",
    "\n",
    "     fdo=512;\n",
    "\n",
    "Agora relacionaremos as notas criando um vetor de relação:\n",
    "\n",
    "     vtTom2Freq = [1 9/8 5/4 4/3 3/2 5/3 15/8];\n",
    "     \n",
    "Também determinaremos o tempo de duração que queremos em cada nota:\n",
    "    \n",
    "    tf=3;\n",
    "\n"
   ]
  },
  {
   "cell_type": "markdown",
   "metadata": {},
   "source": [
    "#### Gerando e reproduzindo a música"
   ]
  },
  {
   "cell_type": "markdown",
   "metadata": {},
   "source": [
    "Em um laço de for faremos a reprodução de elemento a elemento do nosso vetor de música (vtmusic), gerando a frequência de cada nota. Nossa frequência de amostragem deve ter relação com cada frequência reproduzida, no final ficando fa=100*fs.\n",
    "\n",
    "Para completar nosso gerador de áudio adicionaremos a pausa. Para isso, acrescente no código FOR um IF tal que para cada elemento 0 do vetor vtmusic será considerado uma pausa. \n",
    "Nosso código ficará da seguinte forma:"
   ]
  },
  {
   "cell_type": "code",
   "execution_count": 2,
   "metadata": {
    "collapsed": true
   },
   "outputs": [],
   "source": [
    "clear all;clc;close all;\n",
    "tf = 0.3;% duraзгo de cada tom\n",
    "% tabela notas musicais\n",
    "% do- 1; re- 2; mi- 3; fa- 4; sol-5; la-6; si-7\n",
    "vtmusic = [1 2 3 4 5 6 7 8]; % vetor de \"mъsica\"\n",
    "% Frequencia fundamental da nota Dу \n",
    "fdo = 512; %Hz\n",
    "% Relaзгo de frequкncias entre as notas musicais\n",
    "vtTom2Freq = [1 9/8 5/4 4/3 3/2 5/3 15/8 2]; \n",
    "%% gerar e tocar musica \n",
    "for iplay = vtmusic\n",
    "    if iplay == 0\n",
    "        pause(tf);\n",
    "    else\n",
    "            fs = vtTom2Freq(iplay)*fdo; \n",
    "            fa = 100*fs;\n",
    "            t = 0:1/fa:tf;\n",
    "            y=cos(2*pi*fs*t);\n",
    "            %wavplay(y,fa)\n",
    "            p = audioplayer(y, fa);\n",
    "            play(p);\n",
    "            pause(tf);\n",
    "    end\n",
    "end"
   ]
  },
  {
   "cell_type": "markdown",
   "metadata": {},
   "source": [
    "Compilando o código acima obtemos a sequência de notas Dó, Ré, Mi, Fá, Sol, Lá e Si. Fica a critério do usuário determinar elementos do vtmusic. Para mostrar o funcionamento do reprodutor de música, faça a seguinte sequência de vtmusic correspondente à música asa branca:\n"
   ]
  },
  {
   "cell_type": "code",
   "execution_count": 3,
   "metadata": {
    "collapsed": false
   },
   "outputs": [],
   "source": [
    "%% Reproduzindo música asa branca\n",
    "clear all;clc;close all;\n",
    "tf = 0.3;% duraзгo de cada tom\n",
    "% tabela notas musicais\n",
    "% do- 1; re- 2; mi- 3; fa- 4; sol-5; la-6; si-7\n",
    "vtmusic = [1 2 3 0 0 5 0 5 0 3 0 4 0 0 4 0 1 2 3 0 5 0 5 0 4 0 3 0 0 1 1 2 3 0 5 0 0 5 4 3 1 0 4 0 0 3 3 2 2 0 3 0 0 2 2 1 1 ];% vetor de \"mъsica\"\n",
    "% Frequencia fundamental da nota Dу \n",
    "fdo = 512; %Hz\n",
    "% Relaзгo de frequкncias entre as notas musicais\n",
    "vtTom2Freq = [1 9/8 5/4 4/3 3/2 5/3 15/8 2]; \n",
    "%% gerar e tocar musica \n",
    "for iplay = vtmusic\n",
    "    if iplay == 0\n",
    "        pause(tf);\n",
    "    else\n",
    "            fs = vtTom2Freq(iplay)*fdo; \n",
    "            fa = 100*fs;\n",
    "            t = 0:1/fa:tf;\n",
    "            y=cos(2*pi*fs*t)+0.8*cos(2*pi*0.01*fs*t)+0.8*cos(-2*pi*0.01*fs*t);\n",
    "            %wavplay(y,fa)\n",
    "            p = audioplayer(y, fa);\n",
    "            play(p);\n",
    "            pause(tf);\n",
    "    end\n",
    "end\n"
   ]
  },
  {
   "cell_type": "markdown",
   "metadata": {},
   "source": [
    "Note que para dar um timbre diferente, adcionamos outras senóides cujas frequências não corresponde a frequência fundamental do tom."
   ]
  },
  {
   "cell_type": "markdown",
   "metadata": {
    "collapsed": true
   },
   "source": [
    "### Abrindo uma amostra de música"
   ]
  },
  {
   "cell_type": "markdown",
   "metadata": {},
   "source": [
    "Podemos também abrir uma música no formato .wav no matlab. O comando para entrar com os dados da musica no matlab é o:\n",
    "\n",
    "    audioread('/Endereço/nomedoarquivo.wav',1).\n",
    "A outra forma seria arrastando o ícone para o workspace do matlab.\n",
    "Ao abrir uma música no matlab, recebemos um vetor 'vtSom' (análogo à nossa função y=cos(t) ), juntamente com a frequência 'dFa'. Reproduziremos o som montando o audioplay(); juntamente com o play:"
   ]
  },
  {
   "cell_type": "code",
   "execution_count": 8,
   "metadata": {
    "collapsed": false
   },
   "outputs": [
    {
     "data": {
      "image/png": "[encoded data removed]",
      "text/plain": [
       "<IPython.core.display.Image object>"
      ]
     },
     "metadata": {},
     "output_type": "display_data"
    }
   ],
   "source": [
    "close all;clc;clear all;\n",
    "%% Abre arquivo de som\n",
    "[vtSom, dFa] = audioread('handson2_file_minicurso_44_1KHz.wav');\n",
    "% vtSom: amplitude das amostras de som\n",
    "% dFa: frequЖncia de amostrasgem do som (amostragem no tempo)\n",
    "% iNBits: quantidade de bits por amostra (quantizaусo)\n",
    "% tempo entre amostras\n",
    "dta = 1/dFa;\n",
    "% eixo temporal do arquivo de som\n",
    "dTFinal = (length(vtSom)-1)*dta;\n",
    "vtTSom = 0:dta:dTFinal;\n",
    "%% Faz grрfico da onda sonora\n",
    "figure;\n",
    "plot(vtTSom,vtSom);\n",
    "set(gca,'FontWeight','bold','FontSize',12)\n",
    "set(gcf,'color',[1 1 1])\n",
    "title(['Sinal de Som '])\n",
    "ylabel('Amplitude');\n",
    "xlabel('Tempo (s)');\n",
    " \n",
    "%% Toca arquivo de som, calcula e mostra suas informaушes\n",
    "%wavplay(4*vtSom(1:end/10), 0.5*dFa);\n",
    "p = audioplayer(vtSom, 1*dFa);\n",
    "play(p);\n"
   ]
  },
  {
   "cell_type": "code",
   "execution_count": 1,
   "metadata": {
    "collapsed": false
   },
   "outputs": [
    {
     "data": {
      "image/png": "[encoded data removed]",
      "text/plain": [
       "<IPython.core.display.Image object>"
      ]
     },
     "metadata": {},
     "output_type": "display_data"
    }
   ],
   "source": [
    "[y,fs]=  audioread('/guitar.wav');% Deve ser colocado o endereço do arquivo .wav!! \n",
    "a=length(y);\n",
    "x=linspace(0,2,a);\n",
    "%% tocar sinal\n",
    "p = audioplayer(y,fs);\n",
    "play(p);\n",
    "\n",
    "%% plotar sinal\n",
    "plot(x,y);\n",
    "\n",
    "ylabel('Amplitude');\n",
    "xlabel('Tempo (s)');"
   ]
  },
  {
   "cell_type": "markdown",
   "metadata": {},
   "source": [
    "Em que x é o intervalo entre 0 e 2 com o mesmo numero de elementos que o vetor de informações (data)."
   ]
  },
  {
   "cell_type": "markdown",
   "metadata": {},
   "source": [
    "Podemos também manipular nossos dados alterando o volume (multiplicando o y por uma constante de 0 a 1) ou o tom do audio (multiplicando a frequência fs por alguma das relações citada na tabela)."
   ]
  },
  {
   "cell_type": "code",
   "execution_count": 16,
   "metadata": {
    "collapsed": false
   },
   "outputs": [
    {
     "data": {
      "image/png": "[encoded data removed]",
      "text/plain": [
       "<IPython.core.display.Image object>"
      ]
     },
     "metadata": {},
     "output_type": "display_data"
    }
   ],
   "source": [
    "%% Parâmetros da onda\n",
    "tf = 1; % Tempo de duração da nota\n",
    "fc = (2)*512; % Frequência da nota Ré\n",
    "fs = 100*fc; % Frequencia de amostragem da nota. \n",
    "t = 0:1/fs:tf; % Vetor tempo. Para cada elemento do vetor t, haverá um elemento em y correspondente.\n",
    "%% Novo valor para amplitude.\n",
    "A = 0.5;  % A amplitude do sinal agora está com a metade da intensidade.\n",
    "y=A*cos(2*pi*fc*t); % Sinal senoidal\n",
    "\n",
    "% Reproduzindo a nota:\n",
    "p = audioplayer(y, fs); \n",
    "play(p);  \n",
    "plot(t,y)  \n",
    "axis([0 0.01 -2 2 ]);"
   ]
  },
  {
   "cell_type": "code",
   "execution_count": null,
   "metadata": {
    "collapsed": true
   },
   "outputs": [],
   "source": []
  }
 ],
 "metadata": {
  "kernelspec": {
   "display_name": "Matlab",
   "language": "matlab",
   "name": "matlab"
  },
  "language_info": {
   "codemirror_mode": "octave",
   "file_extension": ".m",
   "help_links": [
    {
     "text": "MetaKernel Magics",
     "url": "https://github.com/calysto/metakernel/blob/master/metakernel/magics/README.md"
    }
   ],
   "mimetype": "text/x-matlab",
   "name": "matlab",
   "version": "0.14.2"
  }
 },
 "nbformat": 4,
 "nbformat_minor": 2
}
