{
 "cells": [
  {
   "cell_type": "markdown",
   "metadata": {},
   "source": [
    "# Instalação do Kernel do Matlab 2015b no Jupyter\n",
    "\n",
    "### Autor: Vicente Sousa\n",
    "#### Data: 16/03/2017"
   ]
  },
  {
   "cell_type": "markdown",
   "metadata": {},
   "source": [
    "## Instalação do Matlab 2015a\n",
    "\n",
    "**Passo 1**: Copie install.jar da pasta \"fixr2015arel\" para a pasta java/jar\n",
    "> cp fixr2015arel/install.jar java/jar\n",
    "\n",
    "**Passo 2**: Mude a permissão de toda a pasta do Matlab, digitando (se você estiver dentro da pasta matlab_temp):\n",
    "> chmod 777 -R ../matlab_temp\n",
    "\n",
    "**Passo 3**: Chame o comando de instalação, digitando:\n",
    "> sudo ./install\n",
    " \n",
    " - Escolha instalação \"File Installation Key\"\n",
    " - Use o seguinte serial 58691-35070-25550-28046-23042\n",
    " - Pronto, o Matlab será instalado na pasta \" /usr/local/MATLAB/MATLAB_Production_Server/R2015a/”\n",
    "\n",
    "**Passo 4**: Depois de instalado, copiei o arquivo \"libmwservices.so\" da pasta \"fixr2015arel\" para a pasta \"/usr/local/MATLAB/MATLAB_Production_Server/R2015a/bin/glnxa64”\n",
    "> sudo cp fixr2015arel/libmwservices.so  /usr/local/MATLAB/MATLAB_Production_Server/R2015a/bin/glnxa64\n",
    "\n",
    "**Passo 5**:  Instalar suporte do Matlab no Ubuntu (lembrar que a pasta do Matlab é /usr/local/MATLAB/MATLAB_Production_Server/R2015a/):\n",
    "> sudo apt-get install matlab-support\n",
    "\n",
    " - Será pedido para ativar o matlab. Escolha para “active manually without internet” e aponte para o arquivo de licença  “fixr2015arel/Standalone License.lic”\t\n",
    "\n",
    "**Passo 6**: Mudar as permissões de pasta para o kernel do jupyter notebook funcionar.\n",
    "> sudo chown gppcom -R ~/.matlab"
   ]
  },
  {
   "cell_type": "markdown",
   "metadata": {},
   "source": [
    "## Intalação do suporte ao Matlab no Jupiter Notebook (Kernel do Matlab)\n",
    "\n",
    "**Passo 1**: Instalação do Anaconda (pule esse passo se o Anaconda já estiver instalado)\n",
    "- Acesse a [página de download](https://www.continuum.io/downloads)\n",
    "- Clique na aba Download for Linux\n",
    "- Baixe a versão adequada do Python 3 a seu sistema operacional (32 ou 64 bits). Por via das dúvidas, confira esta informação via terminal:\n",
    "  - Abra o terminal (Ctrl+Alt+T)\n",
    "  - Digite o comando 'uname -m'. Normalmente retorna 'i686', 'x86' ou 'x86_64'. Os dois primeiros retornos indicam 32 bits, e o último indica um sistema de 64 bits.\n",
    "  - Quando o download for concluído, entre na pasta Downloads e execute um dos comandos abaixo, para 64 ou 32 bits respectivamente:\n",
    "    > bash Anaconda3-4.3.1-Linux-x86_64.sh\n",
    "    \n",
    "    ou\n",
    "\n",
    "    > bash Anaconda3-4.3.1-Linux-x88.sh \n",
    "\n",
    "    - A instalação começará, e o usuário deve seguir confirmando os requests com 'Enter' ou 'yes'.\n",
    "    - Responda “yes” para: Do you wish the installer to prepend the Anaconda3 install location to PATH in your ~/.bashrc ? \n",
    "\n",
    "**Passo 2**: Precisamos do Pyhton 3.4, assim usaremos o Anaconda para realizar o Downgrade para o Pyhton 3.4. \n",
    "  - Feche o terminal atual, abra outro  e digite:\n",
    "> conda install python=3.4\n",
    "\n",
    "  - Para saber o requisitos do sistema (versões do Pyhton e do Matlab), consulte [fonte](https://www.mathworks.com/help/matlab/matlab_external/system-requirements-for-matlab-engine-for-python.html). \n",
    "\n",
    "**Passo 3**: Instalar o Matlab Engine para Python, digite (estamos supondo que o seu Matlab está instalado na pasta “/usr/local/MATLAB/MATLAB_Production_Server/R2015a”) [fonte](https://www.mathworks.com/help/matlab/matlab_external/install-the-matlab-engine-for-python.html?requestedDomain=www.mathworks.com):\n",
    "\n",
    "> cd \"/usr/local/MATLAB/MATLAB_Production_Server/R2015a/extern/engines/python\"\n",
    " \n",
    "    > sudo python3 setup.py install --user\n",
    "\n",
    "**Passo 4**: Instalar o Kernel do Matlab Jupyter Notebook, digite:\n",
    "\n",
    "> pip install matlab_kernel\n",
    "      \n",
    "    > python3 -m matlab_kernel install --user\n",
    "\n",
    "**Passo 5**: Mudar as permissões de pasta para o kernel do jupyter notebook funcionar. Digite (os comandos abaixo consideram que o usuário é **gppcom**):\n",
    "> sudo chown gppcom -R ~/.matlab\n",
    "  \n",
    "    > sudo chown gppcom -R ~/.local/lib/\n",
    "\n",
    "[Fonte](https://github.com/Calysto/)"
   ]
  },
  {
   "cell_type": "markdown",
   "metadata": {},
   "source": [
    "# Instalação do suporte ao Matlab no Jupiter Notebook (Kernel do Matlab)\n",
    "\n",
    "Baixar nosso repositório:\n",
    "> sudo apt-get update\n",
    "\n",
    "> sudo apt-get install git\n",
    "\n",
    "> git clone https://github.com/jmarcoscosta/python-gppcom.git\n",
    "\n",
    "# Editar um arquivo .ipynb\n",
    "No terminal, digite:\n",
    "> jupyter notebook arquivo.ipynb"
   ]
  },
  {
   "cell_type": "code",
   "execution_count": null,
   "metadata": {
    "collapsed": true
   },
   "outputs": [],
   "source": []
  }
 ],
 "metadata": {
  "kernelspec": {
   "display_name": "Matlab",
   "language": "matlab",
   "name": "matlab"
  },
  "language_info": {
   "codemirror_mode": "octave",
   "file_extension": ".m",
   "help_links": [
    {
     "text": "MetaKernel Magics",
     "url": "https://github.com/calysto/metakernel/blob/master/metakernel/magics/README.md"
    }
   ],
   "mimetype": "text/x-matlab",
   "name": "matlab",
   "version": "0.14.2"
  }
 },
 "nbformat": 4,
 "nbformat_minor": 2
}
