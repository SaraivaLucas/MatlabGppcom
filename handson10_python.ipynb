{
 "cells": [
  {
   "cell_type": "markdown",
   "metadata": {},
   "source": [
    "## Hands-on 10 - Python\n",
    "# Modulação digital em banda base\n",
    "\n",
    "Neste Hands-on, os conceitos principais a serem trabalhados são:\n",
    "- Capacidade de Canal\n",
    "- Canal AWGN\n",
    "- Codificação de linha\n",
    "- Sinalização polar binário"
   ]
  },
  {
   "cell_type": "markdown",
   "metadata": {},
   "source": [
    "## Capacidade de canal\n",
    "\n",
    "Inicialmente, recordemos que canal é _qualquer meio pelo qual a informação possa ser transmitida ou no qual a informação possa ser armazenada_.(Proakis,Salehi) Uma vez que o canal recebe uma informação da fonte e a retorna para o receptor, podemos caracterizá-lo por uma relação entrada-saída, e entendê-lo como um sistema. <br>\n",
    "Um conceito importante, que permite uma transmissão confiável, é a capacidade de canal. \n",
    "- Confiabilidade: probabilidade de que a informação que chega no receptor esteja correta, se comparada à enviada. \n",
    "\n",
    "Um resultado extremamente importante da Teoria da Informação é que uma transmissão confiável (quando a probabilidade de erro é menor que um patamar estabelecido) é possível ainda que o canal seja ruidoso, contanto que a taxa de transmissão seja menor que um número conhecido por _Capacidade de canal_. Esse resultado, demonstrado primeiramente por Shannon (1948) é chamado de Teorema da codificação de canal ruidoso, ou Teorema de Shannon-Hartley, (_Noisy channel-coding theorem_), e diz que o efeito mais básico do ruído não é sobre a confiabilidade do canal, e sim sobre a velocidade da comunicação."
   ]
  },
  {
   "cell_type": "markdown",
   "metadata": {},
   "source": [
    "## Canal AWGN\n",
    "\n",
    "Como explicado em outro Hands-on, _AWGN_ é a sigla para Additive White Gaussian Noise: ruído branco Gaussiano aditivo. Uma alternativa para modelar um canal é supor que seu ruído seja do tipo AWGN, e dessa maneira, podemos calcular a Capacidade de Canal (retomando o Teorema Shannon-Hartley) como:\n",
    "\n",
    "$$ C_{AWGN}  = W \\cdot log_2(1+ \\frac{P}{N_oW}) $$ \n",
    "\n",
    "Onde a SNR é dada por $ \\frac{P}{N_oW} $. "
   ]
  },
  {
   "cell_type": "code",
   "execution_count": null,
   "metadata": {
    "collapsed": true
   },
   "outputs": [],
   "source": []
  }
 ],
 "metadata": {
  "kernelspec": {
   "display_name": "Python 3",
   "language": "python",
   "name": "python3"
  },
  "language_info": {
   "codemirror_mode": {
    "name": "ipython",
    "version": 3
   },
   "file_extension": ".py",
   "mimetype": "text/x-python",
   "name": "python",
   "nbconvert_exporter": "python",
   "pygments_lexer": "ipython3",
   "version": "3.4.5"
  }
 },
 "nbformat": 4,
 "nbformat_minor": 2
}
