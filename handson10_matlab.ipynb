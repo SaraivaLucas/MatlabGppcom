{
 "cells": [
  {
   "cell_type": "markdown",
   "metadata": {},
   "source": [
    "# Modulação digital em banda base\n",
    "### Objetivos:\n",
    "\n",
    "Explicar como simular aspectos básicos de um sistema de comunicação digital em banda-base\n",
    "> - Probabilidade de Erro ($P_{e}$) versus Taxa de Erro de Bit ($BER$)\n",
    "> - Sinais ortogonais\n",
    "> - Sinais antipodais\n",
    "> - Sinais ortogonais vs sinais antipodais\n",
    "\n"
   ]
  },
  {
   "cell_type": "markdown",
   "metadata": {},
   "source": [
    "## Receptor/Detector binário - Sinais Ortogonais\n",
    "\n",
    "\n",
    "Dados em binário consiste em uma sequência de 0's e 1's transmitidos por meio de duas formas de onda, $s_{0}(t)$ e $s_{1}(t)$. Suponha que a taxa de bits é especificada como $R$ bits por segundo (bps). Logo, cada bit será mapeado num sinal correspondente conforme:\n",
    "\n",
    "$$ 0 \\mapsto s_{0}(t) $$\n",
    "\n",
    "$$ 1 \\mapsto s_{1}(t) $$\n",
    "\n",
    "Para $0\\leq t \\leq T_{b}$, sendo $T_{b}=\\frac{1}{R}$ definido como o intervalo de bit. Devemos assumir que a probabilidade de ocorrencia de bits $0$ e $1$ é a mesma - cada um ocorrendo com $50%$ de chance - e são estatisticamente mutualmente independentes.\n",
    "Como já abordado nos nossos handsOns, o meio que o sinal atravessará injeta um ruido gaussiano, logo se comportará como um canal AWGN. \n",
    "\n",
    "Representando o ruído como $n(t) $ e o sinal recebido como $r(t)$, logo:\n",
    "$$r(t)= s_{i}(t)+n(t)$$\n",
    "Sendo $i=\\left \\{ 0,1 \\right \\} $, $s_{i}(t)$ é compreendido como ou sinal correspondente a 0 ou a 1. \n",
    "\n",
    "Como tratamos de sinais ortogonais, isso significa que:\n",
    "$$ \\int_{0}^{T_{b}} s_{0}(t) \\cdot s_{1}(t)dt =0$$\n",
    "\n",
    "### Receptor ótimo\n",
    "\n",
    "O receptor ótimo consiste em duas partes bem distintas. Primeiro do correlator. E o segundo é o detector.\n",
    "\n",
    "![Figura02](./handsOn10_matlab_figs/Correlator.png )\n",
    "A figura acima mostra o processo de correlação  desde a multiplicação do sinal até a detecção.\n",
    "\n",
    "#### Correlator de sinais \n",
    "\n",
    "O correlator de sinis, como o próprio nome diz, faz a correlação cruzada entre o sinal recebido $r(t)$ com o possível sinal transmitido $s_{0}(t)$ e $s_{1}(t)$. Ou seja, o correlator de sinal calcula duas saidas: \n",
    "$$r_{0}(t) = \\int_{0}^{t} r(\\tau) \\cdot s_{0}(\\tau) d\\tau $$ \n",
    "$$r_{1}(t) = \\int_{0}^{t} r(\\tau) \\cdot s_{1}(\\tau) d\\tau $$ \n",
    "no intervalo de  $0\\leq t \\leq T_{b}$, amostra as duas com uma taxa de $T_{b}$ e por fim entrega os sinais ao detector.\n",
    "\n",
    "Por $n(t)$ é uma função de ruido gaussiano, cujo espectro de potência é de $\\frac {N_{o}}{2}$, a componente de ruído $N_{0}$ e $N_{1}$ são gaussianos com média $\\mu = 0$, em termos matemáticos:\n",
    "\n",
    "\n",
    "$$ E(n_{0}) = \\int_{0}^{T_{b}} s_{0}(t)\\cdot$$ \n",
    "\n",
    "\n",
    "### Sinais ortogonais\n",
    "\n",
    "Seja dois simbolos ortogonais entre si $s_{0}(t)$ e $s_{1}(t)$ transmitido.\n",
    "\n",
    "![Figura01](./handsOn10_matlab_figs/Signals_Waveforms.png)\n",
    "Suponhamos agora que um símbolo $s_{0}$ foi recebido de forma que $r(t)=s_{0}+n(t)$ sendo $n(t)$ o ruido, o correlator terá duas saídas. A primeira é referente ao simbolo $s_{0}$:\n",
    "$$ r_{0}= \\int_{0}^{T_{b}} r(t)s_{0}(t)dt $$\n",
    "Como $r(t)=s_{0}+n(t)$\n",
    "$$ r_{0}=\\int_{0}^{T_{b}} s_{0}^{2}(t)dt + \\int_{0}^{T_{b}} n(t)s_{0}dt  $$\n",
    "Sendo $ E=\\int_{0}^{T_{b}} s_{0}^{2}(t)dt$ em que $E$ é a energia do simbolo, a saida do correlator é dada por\n",
    "$$r_{0}= E+n_{0} $$\n",
    "\n",
    "\n",
    "Já o correlator referente ao simbolo $s_{1}$:\n",
    "$$ r_{1}= \\int_{0}^{T_{b}} r(t)s_{1}(t)dt $$\n",
    "Separando símbolo e ruído\n",
    "$$ r_{1}=\\int_{0}^{T_{b}} s_{0}(t)s_{1}(t)dt + \\int_{0}^{T_{b}} n(t)s_{1}dt  $$\n",
    "Por $s_{0}$ e $s_{1}$ serem sinais ortogonais, $\\int_{0}^{T_{b}} s_{0}(t)s_{1}(t)dt=0$ \n",
    "$$ r_{1}= n_{1} $$\n",
    "Sendo $ n_{0}$ e $n_{1}$ as componentes de ruído na saida do correlator.\n",
    "\n",
    "A energia dos dois símbolos é dita como\n",
    "$$E=A^2 T_{b}$$\n",
    "\n",
    "O mesmo se aplica quando o simbolo transmitido é $s_{1)$, com $r_{0}=n_{0}$ e $r_{1}=E+n_{1}$ \n"
   ]
  },
  {
   "cell_type": "markdown",
   "metadata": {},
   "source": [
    "## Exemplo:\n",
    "\n",
    "Amostre os sinais $s_0$ e $s_1$ a uma taxa de $F_{s}=\\frac{20}{T_{b}}$ (Intervalo de amostragem $T_{s}=\\frac{T_{b}}{20}$) e efetue a correlação de $r(t)$ com os sinais conhecidos $s_{0}(t)$ e $s_{1}(t)$ numericamente, ou seja, calcule e plote\n",
    "\n",
    "$$ r_{0}(kT_{s}) = \\sum_{n=1}^{k}r(kT_{s})\\cdot s_{0}(kT_{s})$$\n",
    "e \n",
    "$$ r_{1}(kT_{s}) = \\sum_{n=1}^{k}r(kT_{s})\\cdot s_{1}(kT_{s})$$\n",
    "\n",
    "\n",
    "\n",
    "Para $k=[1,20]$, quando \n",
    "\n",
    "**(a)** s_{0}(t) é o sinal transmitido;\n",
    "\n",
    "**(b)** s_{1}(t) é o sinal transmitido;\n",
    "\n",
    "Repita os cálculos quando o sinal $r(kT_{s})$ é recebido com um ruido aditivo gaussiano cujas amostras $n(kT_{s})$ têm média $\\mu = 0$ e variancia $\\sigma^{2} = 0.1$ e $\\sigma^{2} = 1$\n"
   ]
  },
  {
   "cell_type": "code",
   "execution_count": 1,
   "metadata": {},
   "outputs": [
    {
     "data": {
      "image/png": "[encoded data removed]",
      "text/plain": [
       "<IPython.core.display.Image object>"
      ]
     },
     "metadata": {},
     "output_type": "display_data"
    }
   ],
   "source": [
    "clc;clear all;close all;\n",
    "%% Parametros\n",
    "K=20;                                               % Número de amostras\n",
    "A=1;                                                % Amplitude do sinal\n",
    "l=0:K;                                              % Eixo amostras\n",
    "% Definindo forma de onda\n",
    "s_0=A*ones(1,K);                                    % Sinal 1: Um degrau\n",
    "s_1=[A*ones(1,K/2) -A*ones(1,K/2)];                 % Sinal 2: Soma de degraus\n",
    "% Inicializando sinais de saida\n",
    "r_0=zeros(1,K);                                     % Inicializa vetor r_0\n",
    "r_1=zeros(1,K);                                     % Inicializa vetor r_1\n",
    "Variancia = [0 0.1 1];                              % Variâncias \n",
    "\n",
    "%% Cálculo\n",
    "% Queremos estimar os três casos de variâncias. Criaremos um loop para testar os 3 casos \n",
    "for  i=1:3\n",
    "\n",
    "noise=random('Normal',0,Variancia(i),1,K);\n",
    "% Subcase s=s_0;\n",
    "s=s_0;\n",
    "r=s+noise;\n",
    "for n=1:K\n",
    "        r_0(n)=sum(r(1:n).*s_0(1:n));\n",
    "        r_1(n)=sum(r(1:n).*s_1(1:n));        \n",
    "end\n",
    "\n",
    "% Plotting \n",
    "subplot(3,2,-1+2*i)\n",
    "hold on\n",
    "plot(l,[0 r_0],'-')\n",
    "plot(l,[0 r_1],'--')\n",
    "set(gca,'XTickLabel',{'0','10Tb','20Tb'})\n",
    "axis([0 20 -5 30])\n",
    "xlabel('(a) \\sigma^2 =0  & S_{1} é transmitido')\n",
    "    %----------------------------------------------------------%\n",
    "% Subcase s=s_1;\n",
    "s=s_1;\n",
    "r=s+noise;\n",
    "for n=1:K\n",
    "        r_0(n)=sum(r(1:n).*s_0(1:n));\n",
    "        r_1(n)=sum(r(1:n).*s_1(1:n));       \n",
    "end\n",
    "\n",
    "% Plotting subcaso 2\n",
    "subplot(3,2,2*i)\n",
    "hold on\n",
    "plot([0 r_0],'-')\n",
    "plot([0 r_1],'--')\n",
    "set(gca,'XTickLabel',{'0','10Tb','20Tb'})\n",
    "axis([0 20 -5 30])\n",
    "xlabel('(a) \\sigma^2 =0  & S_{1} é transmitido')\n",
    "end\n",
    "\n",
    "\n"
   ]
  },
  {
   "cell_type": "markdown",
   "metadata": {
    "collapsed": true
   },
   "source": [
    "## Matched Filter (Filtro casado)\n",
    "O filtro casado provê uma alternativa para o correlator de sinais na demodulação do sinal recebido $r(t)$. Um filtro que é casado com o sinal $s(t)$, onde $0\\leq t \\leq T_{b}$, têm uma resposta ao impulso \n",
    "\n",
    "$$ h(t)= s(T_{b}-t) $$\n",
    "\n",
    "Consequentemente, o sinal $y(t)$ na saida do filtro casado quando o sinal de entrada é $s(t)$ é dado pela convolução integral\n",
    "\n",
    "\n",
    "$$  y(t) = \\int_{0}^{t} s(\\tau)h(t-\\tau) d\\tau $$\n",
    "\n",
    "\n",
    "Se substituirmos $ h(t)= s(T_{b}-t) $ na equação anterior, temos \n",
    "\n",
    "\n",
    "$$  y(t) = \\int_{0}^{t} s(\\tau)s(T_{b}-t+\\tau) d\\tau$$\n",
    "\n",
    "e se amostrarmos $y(t)$ em $t= T_{b}$, obtêm-se\n",
    "\n",
    "$$  y(T_{b}) = \\int_{0}^{T_{b}} s^{2}(t)dt=E$$\n",
    "\n",
    "Em que E é a energia do sinal $s(t)$. Sendo assim, a saida do filtro casado amostrado nos instantes $T_{b}$ é identica à saida do correlator de sinais.\n"
   ]
  },
  {
   "cell_type": "markdown",
   "metadata": {},
   "source": [
    "## Detector\n",
    "\n",
    "Após a passagem do sinal $r(t)$ pelo correlator ou filtro casado, dois sinais serão enviados para o detector. O detector é o elemento responsável por decidir se o símbolo recebido $r(t)$ representa $0$ ou $1$. O detector ótimo é definido como o detector que minimiza a probabilidade de erro. Seu funcionamento é bastante simples\n",
    "\n",
    "** Regra de decisão**:\n",
    "> $r_{0} > r_{1} \\Rightarrow  s_{0}(t)$ \n",
    "\n",
    "> $r_{0} < r_{1}  \\Rightarrow  s_{1}(t)$ \n",
    "\n",
    "\n",
    "\n",
    "No ponto de vista de um detector, errar significa\n",
    "\n",
    "> $r_{0}< r_{1}$ quando $s_{0}$ é transmitido $\\left\\{\\begin{matrix} r_{0}= E + n_{0} \\\\ r_{1}= n_{1} \\end{matrix}\\right.$ \n",
    "\n",
    "> $r_{0}> r_{1}$ quando $s_{1}$ é transmitido $\\left\\{\\begin{matrix} r_{0}= n_{0} \\\\ r_{1}= E+ n_{1} \\end{matrix}\\right.$ \n",
    "\n",
    "Em termos estatísticos, a probabilidade de ocorrencia de erro quando $s_{0}$ é transmitido é dada por:\n",
    "$$ P_{e}=P(r_{0}<r_{1})=P(n_{0}+E<n_{1})=P(E<n_{1}-n_{0})$$\n",
    "\n",
    "Podemos a partir da equação acima chegar na equação da probabilidade abaixo\n",
    "\n",
    "$$ P_{e}=\\frac{1}{\\sqrt{2\\pi}\\sigma_{x} } \\int_{E}^{\\infty} e^{\\frac{-x^{2}}{2\\sigma_{x}^{2}}} dx $$\n",
    " \n",
    " \n",
    "$$P_{e} = Q\\left (  \\sqrt{\\frac{E}{N_{0}}} \\right )$$\n",
    " \n",
    "Sendo $E/N_{0}$ chamado de signal-to-noise ratio (SNR)\n",
    " \n",
    "O detalhamento matemático pode ser encontrado no livro do [Proakis](http://shannon.ir/Bookme/Contemporary%20Communication%20Systems%20Using%20MATLAB.pdf) (Pág 194) e nos deteremos apenas ao resultado.\n",
    "\n",
    "\n"
   ]
  },
  {
   "cell_type": "code",
   "execution_count": 1,
   "metadata": {},
   "outputs": [
    {
     "data": {
      "image/png": "[encoded data removed]",
      "text/plain": [
       "<IPython.core.display.Image object>"
      ]
     },
     "metadata": {},
     "output_type": "display_data"
    }
   ],
   "source": [
    "clc;clear all;close all;\n",
    "%% Parâmetros\n",
    "SNR_inicial=0;                                      % SNR inicial\n",
    "SNR_final=15;                                       % SNR final\n",
    "SNR_passo=0.25;                                     % Passo de SNR\n",
    "SNR_dB=SNR_inicial:SNR_passo:SNR_final;             % Snr em dB\n",
    "for i=1:length(SNR_dB)\n",
    "    snr=10^(SNR_dB(i)/10);\n",
    "    Pe(i)=qfunc(sqrt(snr));\n",
    "    echo off;\n",
    "end\n",
    "echo on\n",
    "semilogy(SNR_dB,Pe)\n",
    "grid\n"
   ]
  },
  {
   "cell_type": "code",
   "execution_count": null,
   "metadata": {
    "collapsed": true
   },
   "outputs": [],
   "source": []
  }
 ],
 "metadata": {
  "kernelspec": {
   "display_name": "Matlab",
   "language": "matlab",
   "name": "matlab"
  },
  "language_info": {
   "codemirror_mode": "octave",
   "file_extension": ".m",
   "help_links": [
    {
     "text": "MetaKernel Magics",
     "url": "https://github.com/calysto/metakernel/blob/master/metakernel/magics/README.md"
    }
   ],
   "mimetype": "text/x-matlab",
   "name": "matlab",
   "version": "0.14.3"
  }
 },
 "nbformat": 4,
 "nbformat_minor": 2
}
