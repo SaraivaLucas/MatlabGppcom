{
 "cells": [
  {
   "cell_type": "markdown",
   "metadata": {},
   "source": [
    "# Modulação digital em banda base\n",
    "### Objetivos:\n",
    "\n",
    "Explicar como simular aspectos básicos de um sistema de comunicação digital em banda-base\n",
    "> - Probabilidade de Erro ($P_{e}$) versus Taxa de Erro de Bit ($BER$)\n",
    "> - Sinais ortogonais\n",
    "> - Sinais antipodais\n",
    "> - Sinais ortogonais vs sinais antipodais\n",
    "\n"
   ]
  },
  {
   "cell_type": "markdown",
   "metadata": {},
   "source": [
    "### Transmissão em banda-base versus transmissão em banda-passante\n",
    "Na transmissão em banda-base o espectro do sinal se concentra em torno da frequência zero. Na transmissão em banda-passante, também conhecida como transmissão passa-faixa, o espectro do sinal modulado se concentra em torno de uma frequência de portadora $f_{c}$ .\n",
    "\n",
    "\n",
    "## Receptor/Detector binário - Sinais Ortogonais\n",
    "\n",
    "\n",
    "Dados em binário consiste em uma sequência de 0's e 1's transmitidos por meio de dois símbolos $s_{0}(t)$ e $s_{1}(t)$. Suponha que a taxa de bits é especificada como $R$ bits por segundo (bps). Logo, cada bit será mapeado num sinal correspondente conforme:\n",
    "\n",
    "$$ 0 \\mapsto s_{0}(t) $$\n",
    "\n",
    "$$ 1 \\mapsto s_{1}(t) $$\n",
    "\n",
    "Para $0\\leq t \\leq T_{b}$, sendo $T_{b}=\\frac{1}{R}$ definido como o intervalo de bit. Devemos assumir que a probabilidade de ocorrencia de bits $0$ e $1$ é a mesma - cada um ocorrendo com $50%$ de chance - e são estatisticamente mutualmente independentes.\n",
    "Como já abordado nos nossos handsOns, o meio que o sinal atravessará injeta um ruido gaussiano, logo se comportará como um canal AWGN. \n",
    "\n",
    "Representando o ruído como $n(t) $ e o sinal recebido como $r(t)$, logo:\n",
    "$$r(t)= s_{i}(t)+n(t)$$\n",
    "Sendo $i=\\left \\{ 0,1 \\right \\} $, $s_{i}(t)$ é compreendido como ou sinal correspondente a 0 ou a 1. \n",
    "\n",
    "Como tratamos de sinais ortogonais, isso significa que:\n",
    "$$ \\int_{0}^{T_{b}} s_{0}(t) \\cdot s_{1}(t)dt =0$$\n",
    "\n",
    "### Receptor ótimo\n",
    "\n",
    "O receptor ótimo consiste em duas partes bem distintas. Primeiro do correlator. E o segundo é o detector.\n",
    "\n",
    "![Figura02](./handsOn10_matlab_figs/Correlator.png )\n",
    "A figura acima mostra o processo de correlação  desde a multiplicação do sinal até a detecção.\n",
    "\n",
    "#### Correlator de sinais \n",
    "\n",
    "O correlator de sinis, como o próprio nome diz, faz a correlação cruzada entre o sinal recebido $r(t)$ com o possível sinal transmitido $s_{0}(t)$ e $s_{1}(t)$. Ou seja, o correlator de sinal calcula duas saidas: \n",
    "$$r_{0}(t) = \\int_{0}^{t} r(\\tau) \\cdot s_{0}(\\tau) d\\tau $$ \n",
    "$$r_{1}(t) = \\int_{0}^{t} r(\\tau) \\cdot s_{1}(\\tau) d\\tau $$ \n",
    "no intervalo de  $0\\leq t \\leq T_{b}$, amostra as duas com uma taxa de $T_{b}$ e por fim entrega os sinais ao detector.\n",
    "\n",
    "Por $n(t)$ é uma função de ruido gaussiano, cujo espectro de potência é de $\\frac {N_{o}}{2}$, a componente de ruído $N_{0}$ e $N_{1}$ são gaussianos com média $\\mu = 0$, em termos matemáticos:\n",
    "\n",
    "\n",
    "$$ E(n_{0}) = \\int_{0}^{T_{b}} s_{0}(t)\\cdot$$ \n",
    "\n",
    "\n",
    "### Sinais ortogonais\n",
    "\n",
    "Seja dois simbolos ortogonais entre si $s_{0}(t)$ e $s_{1}(t)$ transmitido.\n",
    "\n",
    "![Figura01](./handsOn10_matlab_figs/Signals_Waveforms.png)\n",
    "Suponhamos agora que um símbolo $s_{0}$ foi recebido de forma que $r(t)=s_{0}+n(t)$ sendo $n(t)$ o ruido, o correlator terá duas saídas. A primeira é referente ao simbolo $s_{0}$:\n",
    "$$ r_{0}= \\int_{0}^{T_{b}} r(t)s_{0}(t)dt $$\n",
    "Como $r(t)=s_{0}+n(t)$\n",
    "$$ r_{0}=\\int_{0}^{T_{b}} s_{0}^{2}(t)dt + \\int_{0}^{T_{b}} n(t)s_{0}dt  $$\n",
    "Sendo $ E=\\int_{0}^{T_{b}} s_{0}^{2}(t)dt$ em que $E$ é a energia do simbolo, a saida do correlator é dada por\n",
    "$$r_{0}= E+n_{0} $$\n",
    "\n",
    "\n",
    "Já o correlator referente ao simbolo $s_{1}$:\n",
    "$$ r_{1}= \\int_{0}^{T_{b}} r(t)s_{1}(t)dt $$\n",
    "Separando símbolo e ruído\n",
    "$$ r_{1}=\\int_{0}^{T_{b}} s_{0}(t)s_{1}(t)dt + \\int_{0}^{T_{b}} n(t)s_{1}dt  $$\n",
    "Por $s_{0}$ e $s_{1}$ serem sinais ortogonais, $\\int_{0}^{T_{b}} s_{0}(t)s_{1}(t)dt=0$ \n",
    "$$ r_{1}= n_{1} $$\n",
    "Sendo $ n_{0}$ e $n_{1}$ as componentes de ruído na saida do correlator.\n",
    "\n",
    "A energia dos dois símbolos é dita como\n",
    "$$E=A^2 T_{b}$$\n",
    "\n",
    "O mesmo se aplica quando o simbolo transmitido é $s_{1}$ , com $r_{0}=n_{0}$ e $r_{1}=E+n_{1}$ \n"
   ]
  },
  {
   "cell_type": "markdown",
   "metadata": {},
   "source": [
    "## Exemplo 1:\n",
    "\n",
    "Amostre os sinais $s_0$ e $s_1$ a uma taxa de $F_{s}=\\frac{20}{T_{b}}$ (Intervalo de amostragem $T_{s}=\\frac{T_{b}}{20}$) e efetue a correlação de $r(t)$ com os sinais conhecidos $s_{0}(t)$ e $s_{1}(t)$ numericamente, ou seja, calcule e plote\n",
    "\n",
    "$$ r_{0}(kT_{s}) = \\sum_{n=1}^{k}r(kT_{s})\\cdot s_{0}(kT_{s})$$\n",
    "e \n",
    "$$ r_{1}(kT_{s}) = \\sum_{n=1}^{k}r(kT_{s})\\cdot s_{1}(kT_{s})$$\n",
    "\n",
    "\n",
    "\n",
    "Para $k=[1,20]$, quando \n",
    "\n",
    "**(a)** $s_{0}(t)$ é o sinal transmitido;\n",
    "\n",
    "**(b)** $s_{1}(t)$ é o sinal transmitido;\n",
    "\n",
    "Repita os cálculos quando o sinal $r(kT_{s})$ é recebido com um ruido aditivo gaussiano cujas amostras $n(kT_{s})$ têm média $\\mu = 0$ e variancia $\\sigma^{2} = 0.1$ e $\\sigma^{2} = 1$\n",
    "### Resolução:\n",
    "Para resolver isso, faremos exatamente o passo a passo mostrado acima. Recebido um sinal $r(t)$ correspondendo ao símbolo com ruído gausiano, multiplica-se o símbolo $s_{0}(t) $ e $s_{1}(t) $, e faz o somatório para doto $\\tau$."
   ]
  },
  {
   "cell_type": "code",
   "execution_count": 26,
   "metadata": {},
   "outputs": [
    {
     "data": {
      "image/png": "[encoded data removed]",
      "text/plain": [
       "<IPython.core.display.Image object>"
      ]
     },
     "metadata": {},
     "output_type": "display_data"
    }
   ],
   "source": [
    "clc;clear all;close all;\n",
    "%% Parametros\n",
    "K=20;                                               % Número de amostras\n",
    "A=1;                                                % Amplitude do sinal\n",
    "l=0:K;                                              % Eixo amostras\n",
    "% Definindo forma de onda\n",
    "s_0=A*ones(1,K);                                    % Sinal 1: Um degrau\n",
    "s_1=[A*ones(1,K/2) -A*ones(1,K/2)];                 % Sinal 2: Soma de degraus\n",
    "% Inicializando sinais de saida\n",
    "r_0=zeros(1,K);                                     % Inicializa vetor r_0\n",
    "r_1=zeros(1,K);                                     % Inicializa vetor r_1\n",
    "Variancia = [0 0.1 1];                              % Variâncias\n",
    "\n",
    "%% Cálculo\n",
    "% Queremos estimar \n",
    "for  ik=1:3\n",
    "noise=random('Normal',0,Variancia(ik),1,K);          % Gera vetor de ruído\n",
    "%% Quando s_0 é transmitido\n",
    "s=s_0;                                              % Sinal enviado\n",
    "r=s+noise;                                          % Sinal recebido\n",
    "% Correlacionando sinais\n",
    "for n=1:K\n",
    "        r_0(n)=sum(r(1:n).*s_0(1:n));\n",
    "        r_1(n)=sum(r(1:n).*s_1(1:n));        \n",
    "end\n",
    "%% Plotting \n",
    "subplot(3,2,-1+2*ik)\n",
    "hold on\n",
    "plot(l,[0 r_0],'-')\n",
    "plot(l,[0 r_1],'--')\n",
    "set(gca,'XTickLabel',{'0','10Tb','20Tb'})\n",
    "axis([0 20 -5 30])\n",
    "xlabel(['\\sigma^{2}= ' num2str(Variancia(ik)) ' & s_{0} é transmitido'])\n",
    "\n",
    "%% Quando s_1 é transmitido\n",
    "s=s_1;                                              % Sinal enviado\n",
    "r=s+noise;                                          % Sinal recebido\n",
    "for n=1:K\n",
    "        r_0(n)=sum(r(1:n).*s_0(1:n));\n",
    "        r_1(n)=sum(r(1:n).*s_1(1:n));       \n",
    "end\n",
    "\n",
    "%% Plotting \n",
    "subplot(3,2,2*ik)\n",
    "hold on\n",
    "plot([0 r_0],'-')\n",
    "plot([0 r_1],'--')\n",
    "set(gca,'XTickLabel',{'0','10Tb','20Tb'})\n",
    "axis([0 20 -5 30])\n",
    "xlabel(['\\sigma^{2}= ' num2str(Variancia(ik)) ' & s_{1} é transmitido'])\n",
    "end"
   ]
  },
  {
   "cell_type": "markdown",
   "metadata": {
    "collapsed": true
   },
   "source": [
    "## Matched Filter (Filtro casado)\n",
    "O filtro casado provê uma alternativa para o correlator de sinais na demodulação do sinal recebido $r(t)$. Um filtro que é casado com o sinal $s(t)$, onde $0\\leq t \\leq T_{b}$, têm uma resposta ao impulso \n",
    "\n",
    "$$ h(t)= s(T_{b}-t) $$\n",
    "\n",
    "Consequentemente, o sinal $y(t)$ na saida do filtro casado quando o sinal de entrada é $s(t)$ é dado pela convolução integral\n",
    "\n",
    "\n",
    "$$  y(t) = \\int_{0}^{t} s(\\tau)h(t-\\tau) d\\tau $$\n",
    "\n",
    "\n",
    "Se substituirmos $ h(t)= s(T_{b}-t) $ na equação anterior, temos \n",
    "\n",
    "\n",
    "$$  y(t) = \\int_{0}^{t} s(\\tau)s(T_{b}-t+\\tau) d\\tau$$\n",
    "\n",
    "e se amostrarmos $y(t)$ em $t= T_{b}$, obtêm-se\n",
    "\n",
    "$$  y(T_{b}) = \\int_{0}^{T_{b}} s^{2}(t)dt=E$$\n",
    "\n",
    "Em que E é a energia do sinal $s(t)$. Sendo assim, a saida do filtro casado amostrado nos instantes $T_{b}$ é identica à saida do correlator de sinais.\n",
    "\n",
    "\n",
    "Em determinadas situações, dependendo da complexidade do formato do pulso $s_{i}(t)$, realizar um filtro casado pode ser uma tarefa bastante complexa e, até mesmo, impossível. Isso implica dizer que nem sempre seu uso será viável. \n",
    "\n",
    "\n",
    "Um último comentário acerca da equivalência entre filtro casado e correlator merece atenção: perceba que o correlator calcula a integral do produto do sinal recebido por uma réplica de $s_{i}(t)$, num intervalo de $T$ segundos. Em grande parte das aplicações práticas $s_{i}(t)$ não está confinado num intervalo de $T$ segundos, almejando-se compactar o espectro do sinal transmitido. Nestes casos o correlator poderá proporcionar desempenho inferior ao correspondente filtro casado, pois realizará a integral que faz parte de sua implementação em um intervalo menor que a duração do pulso e, por consequência, a amplitude de sua saída não estará associadas à energia total do pulso. Em casos como este, a não ser\n",
    "que aceitemos a degradação de desempenho resultante do uso do correlator, somos forçados a implementar o receptor com filtro casado. Vale ainda ressaltar que a diferença de desempenho anteriormente citada pode ser muito pequena a ponto de, em certos casos, poder ser desprezada. [Fonte](http://www.inatel.br/docentes/dayan/easyfolder/EE210/NotasDeAulaEE210.pdf)\n",
    "\n",
    "## Exemplo 2:\n",
    "Considerando o uso de filtro casado para demodulação, monte um demodulador para os mesmos simbolos do exemplo 1.\n",
    "### Resolução\n",
    "Calculamos primeiro a resposta ao impulso para os dois filtros \n",
    ">$h_{0}=s_{0}(T_{b}-t)$ \n",
    "\n",
    ">$h_{1}=s_{1}(T_{b}-t)$\n",
    "\n",
    "![Filtro Casado Exemplo](./handsOn10_matlab_figs/Filtro_Casado_Ortogonal.png)\n",
    "\n"
   ]
  },
  {
   "cell_type": "markdown",
   "metadata": {},
   "source": [
    "O sinal de saída será amostrado ao completar todas as amostras, no caso $k=20$. Podemos perceber então que o sinal que será enviado ao decodificador $r_{i}(t)$ quando enviado o simbolo $s_{0}$ também correspondeu a $\\left \\{\\begin{align*} r_{0} &= E + n_{0} \\\\  r_{1} &= n_{1}\\end{align*}\\right.$ como no correlator."
   ]
  },
  {
   "cell_type": "code",
   "execution_count": 25,
   "metadata": {},
   "outputs": [
    {
     "data": {
      "image/png": "[encoded data removed]",
      "text/plain": [
       "<IPython.core.display.Image object>"
      ]
     },
     "metadata": {},
     "output_type": "display_data"
    }
   ],
   "source": [
    "clc;clear all;close all;\n",
    "%% Parametros\n",
    "K=20;                                               % Número de amostras\n",
    "A=1;                                                % Amplitude do sinal\n",
    "l=0:K;                                              % Eixo amostras\n",
    "Variancia=[0 0.1 1];                                % Vetor de variâncias de ruído\n",
    "\n",
    "%% Definindo forma de onda dos símbolos\n",
    "s_0=A*ones(1,K);                                    % Sinal 1: Um degrau\n",
    "s_1=[A*ones(1,K/2) -A*ones(1,K/2)];                 % Sinal 2: Soma de degraus\n",
    "\n",
    "%% Filtragem\n",
    "for ik= 1:3    \n",
    "noise = random('Normal',0,Variancia(ik),1,K);       % Vetor com ruído\n",
    "%% Quando s_0 é transmitido\n",
    "s=s_0;                                              % Sinal enviado\n",
    "y=s+noise;                                          % Sinal recebido\n",
    "y_0=conv(y,wrev(s_0));                              % Concolução filtro casado saída 0\n",
    "y_1=conv(y,wrev(s_1));                              % Concolução filtro casado saída 1\n",
    "\n",
    "%% Plotting\n",
    "subplot(3,2,-1+2*ik)\n",
    "plot(l,[0 y_0(1:K)],'- k',l,[0 y_1(1:K)],'-- k')\n",
    "set(gca,'XTickLabel',{'0','10T_{b}','20T_{b}'})\n",
    "axis([0 20 -30 30 ])\n",
    "xlabel([' \\sigma^{2}= ' num2str(Variancia(ik)) ' & s_{0} é transmitido'])\n",
    "\n",
    "%% Quando s_1 é transmitido\n",
    "s=s_1;                                              % Sinal enviado\n",
    "y=s+noise;                                          % Sinal recebido\n",
    "y_0=conv(y,wrev(s_0));                              % Concolução filtro casado saída 0\n",
    "y_1=conv(y,wrev(s_1));                              % Concolução filtro casado saída 1\n",
    "\n",
    "%% Plotting \n",
    "subplot(3,2,2*ik)\n",
    "plot(l,[0 y_0(1:K)],'- k',l,[0 y_1(1:K)],'-- k')\n",
    "set(gca,'XTickLabel',{'0','10T_{b}','20T_{b}'})\n",
    "axis([0 20 -30 30 ])\n",
    "xlabel(['\\sigma^{2}= ' num2str(Variancia(ik)) ' & s_{1} é transmitido'])\n",
    "end"
   ]
  },
  {
   "cell_type": "markdown",
   "metadata": {},
   "source": [
    "## Detector\n",
    "\n",
    "Após a passagem do sinal $r(t)$ pelo correlator ou filtro casado, dois sinais serão enviados para o detector. O detector é o elemento responsável por decidir se o símbolo recebido $r(t)$ representa $0$ ou $1$. O detector ótimo é definido como o detector que minimiza a probabilidade de erro. Seu funcionamento é bastante simples\n",
    "\n",
    "** Regra de decisão**:\n",
    "> $r_{0} > r_{1} \\Rightarrow  s_{0}(t)$ \n",
    "\n",
    "> $r_{0} < r_{1}  \\Rightarrow  s_{1}(t)$ \n",
    "\n",
    "\n",
    "\n",
    "No ponto de vista de um detector, errar significa\n",
    "\n",
    "> $r_{0}< r_{1}$ quando $s_{0}$ é transmitido $\\left \\{\\begin{align*} r_{0} &= E + n_{0} \\\\  r_{1} &= n_{1}\\end{align*}\\right.$ \n",
    "\n",
    "> $r_{0}> r_{1}$ quando $s_{1}$ é transmitido $\\left\\{\\begin{align*} r_{0} &= n_{0} \\\\ r_{1}&= E+ n_{1} \\end{align*}\\right.$ \n",
    "\n",
    "Em termos estatísticos, a probabilidade de ocorrencia de erro quando $s_{0}$ é transmitido é dada por:\n",
    "\n",
    "$$ P_{e}=P(r_{0}<r_{1})=P(n_{0}+E<n_{1})=P(E<n_{1}-n_{0})$$\n",
    "\n",
    "Podemos a partir da equação acima chegar na equação da probabilidade abaixo\n",
    "\n",
    "$$ P_{e}=\\frac{1}{\\sqrt{2\\pi}\\sigma_{x} } \\int_{E}^{\\infty} e^{\\frac{-x^{2}}{2\\sigma_{x}^{2}}} dx $$\n",
    "\n",
    " \n",
    " \n",
    "$$P_{e} = Q\\left (  \\sqrt{\\frac{E}{N_{0}}} \\right )$$\n",
    "\n",
    "O detalhamento matemático pode ser encontrado no livro do [Proakis](http://shannon.ir/Bookme/Contemporary%20Communication%20Systems%20Using%20MATLAB.pdf) (Pág 194), portanto,  nos deteremos apenas ao resultado.\n",
    "\n",
    "Sendo $E/N_{0}$ chamado de signal-to-noise ratio (SNR). Também deve-se notar que a probabilidade de erro quando $s_{0}(t)$ é transmitido é identica à probabilidade de erro quando $s_{1}(t)$. Por os 0's e 1's serem igualmente provaveis de ocorrer em uma sequência de dados, a média de probabilidade de erro é dada pela equação que deduzimos acima. Abaixo será mostrado em um script de Matlab a estimação da SNR em em função da probabilidade de erro $P_{e}$.\n",
    "\n",
    " \n",
    " \n",
    " \n",
    " \n",
    " \n",
    "\n",
    "\n",
    "![Detector](./handsOn10_matlab_figs/Detector_ erro.png)\n"
   ]
  },
  {
   "cell_type": "code",
   "execution_count": 1,
   "metadata": {},
   "outputs": [
    {
     "data": {
      "image/png": "[encoded data removed]",
      "text/plain": [
       "<IPython.core.display.Image object>"
      ]
     },
     "metadata": {},
     "output_type": "display_data"
    }
   ],
   "source": [
    "clc;clear all;close all;\n",
    "%% Parâmetros\n",
    "SNR_inicial=0;                                      % SNR inicial\n",
    "SNR_final=15;                                       % SNR final\n",
    "SNR_passo=0.25;                                     % Passo de SNR\n",
    "SNR_dB=SNR_inicial:SNR_passo:SNR_final;             % Snr em dB\n",
    "for i=1:length(SNR_dB)\n",
    "    snr=10^(SNR_dB(i)/10);\n",
    "    Pe(i)=qfunc(sqrt(snr));\n",
    "    echo off;\n",
    "end\n",
    "echo on\n",
    "semilogy(SNR_dB,Pe)\n",
    "grid\n"
   ]
  },
  {
   "cell_type": "markdown",
   "metadata": {
    "collapsed": true
   },
   "source": [
    "## Simulação de Monte Carlo de um sistema de comunicações binário.\n",
    "A simulação de um sistema de comunicações binário consiste em estimar a probabilidade de erro de bit a partir de sucessivos cálculos da taxa erro de bit (BER) com um número de amostras grande.\n",
    "### Sinais ortogonais - Geração, transmissão e recepção \n",
    "Nessa simulação será gerada um vetor de bits que simbolizará nosso sinal transmitido $vtBin$. Como visto, quando\n",
    "\n",
    ">  $s_{0}$ é transmitido $\\left \\{\\begin{align*} r_{0} &= E + n_{0} \\\\  r_{1} &= n_{1}\\end{align*}\\right.$ \n",
    "\n",
    ">  $s_{1}$ é transmitido $\\left\\{\\begin{align*} r_{0} &= n_{0} \\\\ r_{1} &= E+ n_{1} \\end{align*}\\right.$ \n",
    "\n",
    "Assim, procuramos no vetor de simbolos transmitido e usamos a função $find$ para localizar onde se encontram as amostras de zeros e uns,$vtIndex0$ e $vtIndex1$ respectivamente. Sabendo que a energia será $E$ ou $E+n_{i}$, acrescentaremos o ruído na forma de energia à variável de energia calculada do sinal $dE$ no processo referente a correlação. Isso é feito tanto para quando $s_{0}$ quanto para $s_{1}$ a partir dos indices.\n",
    "\n",
    "### Detecção\n",
    "O processo de detecção consiste em identificar para cada símbolo transmitido se a energia é maior ou menor ao símbolo que comparar. No matlab implementaremos da seguinte forma"
   ]
  },
  {
   "cell_type": "code",
   "execution_count": 16,
   "metadata": {},
   "outputs": [
    {
     "name": "stdout",
     "output_type": "stream",
     "text": [
      "\n",
      "Energia0 =\n",
      "\n",
      "    0.5033    0.8606    0.4182    0.1972    0.4265\n",
      "\n",
      "\n",
      "Energia1 =\n",
      "\n",
      "    0.3585    0.9088    0.1170    0.8328    0.4956\n",
      "\n",
      "\n",
      "Bit =\n",
      "\n",
      "     0     1     1     1     0\n",
      "\n"
     ]
    }
   ],
   "source": [
    "Energia0=rand(1,5)\n",
    "Energia1=rand(1,5)\n",
    "Bit=Energia_zero<Energia_um"
   ]
  },
  {
   "cell_type": "markdown",
   "metadata": {},
   "source": [
    "Em seguida queremos calcular o numero de erros ocorrido na detecção, ou seja, quando que $E+n_{i}<n_{j}$. Para isso, somaremos o vetor de bits transmitido ($vtBin$) com o vetor de bits que acabamos de detectar ($vtBinDetec$). \n",
    "\n",
    "> Acerto quando $\\left \\{\\begin{align*} 0 + 0 &= 0 \\\\  1 + 1 &= 2\\end{align*}\\right.$\n",
    "\n",
    "> Erro quando $\\left \\{\\begin{align*} 0 + 1 &= 1 \\\\  1 + 0 &= 1\\end{align*}\\right.$\n",
    "\n",
    "Ou seja, acerto quando o bit transmitido coincide com o detectado e erro quando o bit transmitido é diferente do detectado. Logo, onde houver 1 "
   ]
  },
  {
   "cell_type": "code",
   "execution_count": 17,
   "metadata": {},
   "outputs": [
    {
     "data": {
      "image/png": "[encoded data removed]",
      "text/plain": [
       "<IPython.core.display.Image object>"
      ]
     },
     "metadata": {},
     "output_type": "display_data"
    }
   ],
   "source": [
    "clear all;close all;clc;\n",
    "%% Parâmetros\n",
    "snr_in_dB=0:1:12;                               % SNR em dB\n",
    "nMCSamples = 10000;                             % Número de amostras MMC\n",
    "vtSNRTeo=0:0.1:12;\n",
    "dE = 1;                                         % Energia do símbolo s0 e s1\n",
    "dSNR = exp(snr_in_dB*log(10)/10);               % SNR em escala linear\n",
    "dsgma = dE./sqrt(2*dSNR);                       % Desvio padrão do ruído\n",
    "\n",
    "%% Tranmissão \n",
    "vtBin = randi([0 1],1,nMCSamples);              % Geração dos números binários 0 e 1 com igual probabilidade\n",
    "% Estima erro varrendo todos os valores de Snr\n",
    "for ik=1:length(snr_in_dB)\n",
    "\n",
    "vtIndex0 = find(vtBin == 0);                    % Acha os índice de bits iguais a 0\n",
    "vtIndex1 = find(vtBin == 1);                    % Acha os índice de bits iguais a 1\n",
    "\n",
    "% Dado que o ruído é de média zero e variancia dsgma^2, têm-se que \n",
    "% r=média+dsgma*randn(.)= dsgma*randn(.)\n",
    "% Gera saida do correlator para cada entrada 0.\n",
    "vtEnergiaRo(vtIndex0) = dE + dsgma(ik)*randn(1,length(vtIndex0));   % Saída r0\n",
    "vtEnergiaR1(vtIndex0) = dsgma(ik)*randn(1,length(vtIndex0));        % Saída r1\n",
    "% Gera saida do correlator para cada entrada 1  \n",
    "vtEnergiaRo(vtIndex1) = dsgma(ik)*randn(1,length(vtIndex1));        % Saída r0\n",
    "vtEnergiaR1(vtIndex1) = dE + dsgma(ik)*randn(1,length(vtIndex1));   % Saída r1\n",
    "\n",
    "%% Detecção \n",
    "vtBinDetec = vtEnergiaRo < vtEnergiaR1;         % Detecção: 0 se, r0>r1; e 1, se r0<r1\n",
    "\n",
    "%% Detecção de erro\n",
    "% Detecção de erros (soma dos vetores originais e detectados)\n",
    "% 0 + 0 = 0 (acerto)\n",
    "% 1 + 1 = 2 (acerto)\n",
    "% 0 + 1 = 1 (erro)\n",
    "% 1 + 0 = 1 (erro)\n",
    "vtError = vtBin + vtBinDetec; \n",
    "nErrors = length(find(vtError == 1));\n",
    "% Estimativa da probabilidade de erro, i.e., BER\n",
    "dBER = nErrors/nMCSamples;\t  \t     \n",
    "vtSimError(ik)=dBER;\n",
    "end\n",
    "\n",
    "%% Gera a curva teórica\n",
    "for ik=1:length(vtSNRTeo)\n",
    "  dSNR=exp(vtSNRTeo(ik)*log(10)/10);   \n",
    "  vtTeoError(ik)=(1/2)*erfc(sqrt(dSNR)/sqrt(2));\n",
    "end\n",
    "%% Plotting\n",
    "semilogy(snr_in_dB,vtSimError,'o');\n",
    "hold on;\n",
    "semilogy(vtSNRTeo,vtTeoError);\n",
    "legend('BER (simulada)', 'P_{e} (teórica)')\n",
    "xlabel('SNR')\n",
    "ylabel('BER (simulada) ou Pe (teórica)')"
   ]
  },
  {
   "cell_type": "markdown",
   "metadata": {},
   "source": [
    "A diferença entre taxa de erro de bit estimada $BER$ e o valor da probabilidade de erro $P_{e}$ é referente ao número de estimativas realizadas. Conforme aumentamos, esta diferênca se torna menor.\n",
    "\n",
    "\n",
    "\n"
   ]
  }
 ],
 "metadata": {
  "kernelspec": {
   "display_name": "Matlab",
   "language": "matlab",
   "name": "matlab"
  },
  "language_info": {
   "codemirror_mode": "octave",
   "file_extension": ".m",
   "help_links": [
    {
     "text": "MetaKernel Magics",
     "url": "https://github.com/calysto/metakernel/blob/master/metakernel/magics/README.md"
    }
   ],
   "mimetype": "text/x-matlab",
   "name": "matlab",
   "version": "0.14.3"
  }
 },
 "nbformat": 4,
 "nbformat_minor": 2
}
