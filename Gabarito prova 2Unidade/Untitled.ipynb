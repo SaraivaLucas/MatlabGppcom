{
 "cells": [
  {
   "cell_type": "markdown",
   "metadata": {},
   "source": [
    "# Laboratório de prototipagem de sistemas de comunicações \n",
    "## Gabarito - Prova 02\n"
   ]
  },
  {
   "cell_type": "markdown",
   "metadata": {},
   "source": [
    "### Questão 1:\n",
    "Considerando a Prática 2: **Recepção AM-DSB (detecção de envoltória) do Hands-On 05**, qual o  erro médio quadrático entre a envoltória ideal e a envoltória recuperada quando $\\tau = 1,5 \\,.\\,10^{-4}$?"
   ]
  },
  {
   "cell_type": "code",
   "execution_count": 11,
   "metadata": {},
   "outputs": [
    {
     "name": "stdout",
     "output_type": "stream",
     "text": [
      "\n",
      "tau =\n",
      "\n",
      "     1\n",
      "\n",
      "R: O Erro médio quadrático é de E = 0.53828\n"
     ]
    }
   ],
   "source": [
    "clc;clear all;close all;\n",
    "%% Questão 1\n",
    "tau =1,5e-4;                                                     % Constante de tempo do detector de envelope  \n",
    "\n",
    "%                                                       Copiado\n",
    "%-----------------------------------------------------------------------------------------------------------------------\n",
    "t = [0:999]*1e-6;                                               % Definição do vetor tempo\n",
    "Ts = 1e-6;                                                      % Definição do período\n",
    "fc = 10000;                                                     % Frequência da portadora\n",
    "fm = 1500;                                                      % Frequência do sinal\n",
    "Mu = 0.6;                                                       % Índice de modulação\n",
    "x_AMo = (1+Mu*cos(2*pi*fm*t)).*cos(2*pi*fc*t);                  % Onda Modulada AM-DSB\n",
    "% Envelope ideal do AM-DSB\n",
    "x_envIdeal = abs(1+Mu*cos(2*pi*fm*t));\n",
    "% Detector de envelope.\n",
    "x_AM = x_AMo.*(x_AMo>0);                                        % Parte positiva da onda AM\n",
    "x_env = zeros(size(x_AM));                                      % Vetor de zeros vetor pra guardar o envelope\n",
    "nSamp = length(x_AM);                                           % Número de amostras da onda AM\n",
    "out = -1;                                                       % Saída inicial (temporária)\n",
    "% Cálculo da saida\n",
    "for i=1:nSamp,\n",
    "    inp = x_AM(i);\n",
    "    if (inp>=out)                                               % Caso 1: x_am(t) > Vc(t) (carga do capacitor)\n",
    "        out = inp;\n",
    "    else                                                        % Caso 2: x_am(t) < Vc(t) (descarga do capacitor)\n",
    "        out = out*(1-Ts/tau);\n",
    "    end\n",
    "    x_env(i) = out;\n",
    "end\n",
    "%-----------------------------------------------------------------------------------------------------------------------\n",
    "\n",
    "% Cálculo do erro médio quadrático                                                                                             \n",
    "Erro_MSE=(x_envIdeal-x_env).^2;\n",
    "Erro_MSE=sum(Erro_MSE)/length(Erro_MSE);\n",
    "disp(['R: O Erro médio quadrático é de E = ',num2str(Erro_MSE)]);"
   ]
  },
  {
   "cell_type": "markdown",
   "metadata": {},
   "source": [
    "### Questão 2:  \n",
    "Considerando a Prática 3: **Quantização do Hands-On 06**, qual a SQNR para $8$ níveis de quantização ? "
   ]
  },
  {
   "cell_type": "code",
   "execution_count": 14,
   "metadata": {},
   "outputs": [
    {
     "name": "stdout",
     "output_type": "stream",
     "text": [
      "R: SQNR = 1.0442\n"
     ]
    }
   ],
   "source": [
    "clc;close all;clear all;\n",
    "%% Questão 5\n",
    "L= 8; \n",
    "%                                                   Copiado\n",
    "%-----------------------------------------------------------------------------------------------------------------------\n",
    "T=0.002;                                                % Taxa de amostragem (500kHz)\n",
    "Tf=1;                                                   % Tempo final em segundos\n",
    "t=0:T:Tf-T;                                             % Definição do eixo do tempo      \n",
    "fm1=3;                                                  % Frequência senoide 1      \n",
    "fm2=1;                                                  % Frequência senoide 2\n",
    "m_t=sin(2*pi*fm2*t)-sin(2*pi*fm1*t);                    % Sinal mensagem m(t)\n",
    "ts=0.02;                                                % Nova taxa de amostragem\n",
    "N_samp=round(ts/T);                                     % Número de elementos\n",
    "% Amostragem \n",
    "s_out=downsample(m_t,N_samp);                           % Coleta 1 amostra a cada N_samp=10 amostras do sinal  \n",
    "s_out=upsample(s_out,N_samp);                           % Retorna vetor amostrado com o numero inicial de elementos\n",
    "% Quantização\n",
    "sig_max=max(s_out);                                     % Encontra pico máximo\n",
    "sig_min=min(s_out);                                     % Encontra pico mínimo\n",
    "Delta=(sig_max-sig_min)/L;                              % Intervalo de quantização (separação entre um nível e outro)\n",
    "q_level=sig_min+Delta/2:Delta:sig_max-Delta/2;          % Vetor com amplitudes dos Q níveis \n",
    "sigp=s_out-sig_min;                                     % Shift para cima\n",
    "sigp=sigp*(1/Delta);                                    % Calcula a quantidade de nívels\n",
    "sigp=sigp+1/2;                                          % Tira elementos do zero \n",
    "qindex=round(sigp);                                     % Encontra inteiro mais proximo para cada elemento\n",
    "qindex=min(qindex,L);                                   % Remove o excedente de qindex \n",
    "q_out=q_level(qindex);                                  % Calcula a amplitude quantizada de cada amostra\n",
    "%-----------------------------------------------------------------------------------------------------------------------\n",
    "\n",
    "% Cálculo da SQNR \n",
    "N=length(m_t);                                          % Comprimento do vetor \n",
    "Psignal=sum(m_t.^2)/N;                                  % Potência do sinal\n",
    "Pnoise=sum((m_t-q_out).^2)/N;                           % Potência do ruído\n",
    "SQNR=Psignal/Pnoise;                                    % SQNR linear \n",
    "disp(['R: SQNR = ', num2str(SQNR)])"
   ]
  },
  {
   "cell_type": "markdown",
   "metadata": {},
   "source": [
    "### Questão 3:  \n",
    "Considerando a Prática 1: **PDFs e CDFs de VAs clássicas do Hands-On 07**, a duração de chamadas de uma operadora telefônica é uma VA com distribuição exponencial de taxa $\\lambda=120$ segundos/chamada. Qual a probabilidade de assinantes fazerem uma chamada com mais de $4$ minutos de duração?"
   ]
  },
  {
   "cell_type": "code",
   "execution_count": 10,
   "metadata": {},
   "outputs": [
    {
     "name": "stdout",
     "output_type": "stream",
     "text": [
      "R: A probabilidade de a chamada durar mais que 4 minutos é de P = 0.067093%\n"
     ]
    }
   ],
   "source": [
    "clc;clear all;close all;\n",
    "%% Questão 3:\n",
    "lambda=120/60;                                                                               % Lambda em minutos por chamada \n",
    "x=4;                                                                                         % Duração da chamada em questão\n",
    "f=lambda*exp(-lambda*x);                                                                     % Função probabilidade \n",
    "disp(['R: A probabilidade de a chamada durar mais que 4 minutos é de P = ', num2str(f*100),'%'])  % Percentual"
   ]
  },
  {
   "cell_type": "markdown",
   "metadata": {},
   "source": [
    "### Questão 4: \n",
    "Considerando o **Hands-On 09: Modulação digital(modulação, demodulação e desempenho em ruído AWGN)** -Parte 01, qual a probabilidade de erro para um sistema digital binário com sinais antipodais e Eb/No = 17?"
   ]
  },
  {
   "cell_type": "code",
   "execution_count": 9,
   "metadata": {},
   "outputs": [
    {
     "name": "stdout",
     "output_type": "stream",
     "text": [
      "R: A probabilidade de erro é de P_e = 2.7556e-09\n"
     ]
    }
   ],
   "source": [
    "clc;clear all;close all;\n",
    "%% Questão 4:\n",
    "Eb_No=17;                                                                                   % Valor escalar da Eb/No\n",
    "vtTeoErrorAnti = qfunc(sqrt(2*Eb_No));                                                      % Probabilidade de erro\n",
    "disp(['R: A probabilidade de erro é de P_e = ', num2str(vtTeoErrorAnti)])    "
   ]
  },
  {
   "cell_type": "markdown",
   "metadata": {},
   "source": [
    "### Questão 5:\n",
    "Considerando a Prática 2: **Ruído em comunicações digitais do Hands-On 08**, qual a potência do ruído para uma modulação 8-PSK e uma Eb/No = 15dB?"
   ]
  },
  {
   "cell_type": "code",
   "execution_count": 13,
   "metadata": {},
   "outputs": [
    {
     "name": "stdout",
     "output_type": "stream",
     "text": [
      "R: A potência é de P = 0.0019764\n"
     ]
    }
   ],
   "source": [
    "clc;clear all;close all;\n",
    "%% Questão 4\n",
    "M=8;                                                            % Modulação 8-PSK\n",
    "Eb_No_db=15;                                                    % Eb/No em dB\n",
    "Eb_No=10^(Eb_No_db/10);                                         % Eb/No linear\n",
    "Var=1/(2*M*Eb_No);                                              % Cálculo da Variância\n",
    "mu=0;                                                           % Média de um ruído AWGN\n",
    "P= mu+Var;                                                      % Cálculo da potência\n",
    "disp(['R: A potência é de P = ',num2str(P)]);"
   ]
  }
 ],
 "metadata": {
  "kernelspec": {
   "display_name": "Matlab",
   "language": "matlab",
   "name": "matlab"
  },
  "language_info": {
   "codemirror_mode": "octave",
   "file_extension": ".m",
   "help_links": [
    {
     "text": "MetaKernel Magics",
     "url": "https://github.com/calysto/metakernel/blob/master/metakernel/magics/README.md"
    }
   ],
   "mimetype": "text/x-matlab",
   "name": "matlab",
   "version": "0.14.3"
  }
 },
 "nbformat": 4,
 "nbformat_minor": 2
}
