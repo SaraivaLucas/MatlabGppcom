{
 "cells": [
  {
   "cell_type": "markdown",
   "metadata": {},
   "source": [
    "# Laboratório de prototipagem de sistemas de comunicações \n",
    "## Gabarito - Prova 01\n",
    "\n",
    "### Questão 1: \n",
    "Considerando o **Hands-On 09: Modulação digital(modulação, demodulação e desempenho em ruído AWGN)** -Parte 01, qual a probabilidade de erro para um sistema digital binário com sinais antipodais e Eb/No = 10? **(Correta)**"
   ]
  },
  {
   "cell_type": "code",
   "execution_count": 2,
   "metadata": {},
   "outputs": [
    {
     "name": "stdout",
     "output_type": "stream",
     "text": [
      "R: A probabilidade de erro é de P_e = 3.8721e-06\n"
     ]
    }
   ],
   "source": [
    "clc;clear all;close all;\n",
    "%% Questão 1:\n",
    "Eb_No=10;                                                                                   % Valor escalar da Eb/No\n",
    "vtTeoErrorAnti = qfunc(sqrt(2*Eb_No));                                                      % Probabilidade de erro\n",
    "disp(['R: A probabilidade de erro é de P_e = ', num2str(vtTeoErrorAnti)])    "
   ]
  },
  {
   "cell_type": "markdown",
   "metadata": {},
   "source": [
    "### Questão 2:  \n",
    "Considerando a Prática 1: **PDFs e CDFs de VAs clássicas do Hands-On 07**, a duração de chamadas de uma operadora telefônica é uma VA com distribuição exponencial de taxa $\\lambda=30$ segundos/chamada. Qual a probabilidade de assinantes fazerem uma chamada com mais de $4$ minutos de duração? **(Correta)**"
   ]
  },
  {
   "cell_type": "code",
   "execution_count": 1,
   "metadata": {},
   "outputs": [
    {
     "name": "stdout",
     "output_type": "stream",
     "text": [
      "R: A probabilidade de a chamada durar mais que 4 minutos é de P = 13.5674%\n",
      "R: A probabilidade de a chamada durar mais que 4 minutos é de P = 13.5335%\n"
     ]
    }
   ],
   "source": [
    "clc;clear all;close all;\n",
    "%% Questão 2:\n",
    "% Pela PDF\n",
    "lambda=30/60;                                                              % Lambda em minutos por chamada\n",
    "x=4:0.01:99999;                                                            % Duração da chamada em questão limite =999999 tao grande quanto queira\n",
    "f=lambda*exp(-lambda*x);                                                   % Função probabilidade \n",
    "disp(['R: A probabilidade de a chamada durar mais que 4 minutos é de P = ', num2str(sum(f)),'%'])  % Percentual\n",
    "% Pela CDF\n",
    "CDF=exp(-lambda*4);                                                        % probabilidade de ocorrer entre 0 e 4\n",
    "Resposta=CDF*100;                                                          % probabilidade de ocorrer de 4 a inf\n",
    "disp(['R: A probabilidade de a chamada durar mais que 4 minutos é de P = ', num2str(Resposta),'%'])  % Percentual"
   ]
  },
  {
   "cell_type": "markdown",
   "metadata": {},
   "source": [
    "### Questão 3:\n",
    "Considerando a Prática 2: **Recepção AM-DSB (detecção de envoltória) do Hands-On 05**, qual o  erro médio quadrático entre a envoltória ideal e a envoltória recuperada quando $\\tau = 3\\,.\\,10^{-3}$?  **(Correta)**"
   ]
  },
  {
   "cell_type": "code",
   "execution_count": 96,
   "metadata": {},
   "outputs": [
    {
     "name": "stdout",
     "output_type": "stream",
     "text": [
      "R: O Erro médio quadrático é de E = 0.20157\n"
     ]
    }
   ],
   "source": [
    "clc;clear all;close all;\n",
    "%% Questão 3\n",
    "tau =1e-3;                                                     % Constante de tempo do detector de envelope  \n",
    "\n",
    "%                                                       Copiado\n",
    "%-----------------------------------------------------------------------------------------------------------------------\n",
    "t = [0:999]*1e-6;                                               % Definição do vetor tempo\n",
    "Ts = 1e-6;                                                      % Definição do período\n",
    "fc = 10000;                                                     % Frequência da portadora\n",
    "fm = 1500;                                                      % Frequência do sinal\n",
    "Mu = 0.6;                                                       % Índice de modulação\n",
    "x_AMo = (1+Mu*cos(2*pi*fm*t)).*cos(2*pi*fc*t);                  % Onda Modulada AM-DSB\n",
    "% Envelope ideal do AM-DSB\n",
    "x_envIdeal = abs(1+Mu*cos(2*pi*fm*t));\n",
    "% Detector de envelope.\n",
    "x_AM = x_AMo.*(x_AMo>0);                                        % Parte positiva da onda AM\n",
    "x_env = zeros(size(x_AM));                                      % Vetor de zeros vetor pra guardar o envelope\n",
    "nSamp = length(x_AM);                                           % Número de amostras da onda AM\n",
    "out = -1;                                                       % Saída inicial (temporária)\n",
    "% Cálculo da saida\n",
    "for i=1:nSamp,\n",
    "    inp = x_AM(i);\n",
    "    if (inp>=out)                                               % Caso 1: x_am(t) > Vc(t) (carga do capacitor)\n",
    "        out = inp;\n",
    "    else                                                        % Caso 2: x_am(t) < Vc(t) (descarga do capacitor)\n",
    "        out = out*(1-Ts/tau);\n",
    "    end\n",
    "    x_env(i) = out;\n",
    "end\n",
    "%-----------------------------------------------------------------------------------------------------------------------\n",
    "\n",
    "% Cálculo do erro médio quadrático                                                                                             \n",
    "Erro_MSE=(x_envIdeal-x_env).^2;\n",
    "Erro_MSE=sum(Erro_MSE)/length(Erro_MSE);\n",
    "disp(['R: O Erro médio quadrático é de E = ',num2str(Erro_MSE)]);"
   ]
  },
  {
   "cell_type": "markdown",
   "metadata": {},
   "source": [
    "### Questão 4:\n",
    "Considerando a Prática 2: **Ruído em comunicações digitais do Hands-On 08**, qual a potência do ruído para uma modulação 8-PSK e uma Eb/No = 20dB? **(Correta)**"
   ]
  },
  {
   "cell_type": "code",
   "execution_count": 4,
   "metadata": {
    "scrolled": false
   },
   "outputs": [
    {
     "name": "stdout",
     "output_type": "stream",
     "text": [
      "\n",
      "Power_Noise =\n",
      "\n",
      "   6.2500e-04\n",
      "\n",
      "\n",
      "Power_Noise_dB =\n",
      "\n",
      "  -32.0412\n",
      "\n"
     ]
    }
   ],
   "source": [
    "clc;clear all;close all;\n",
    "%% Parâmetros\n",
    "EbN0_dB = 20;                                           % Eb/N0 de entrada\n",
    "EbN0=10^(EbN0_dB/10);                                   % Eb/N0 Linear\n",
    "Ns = 10^5;                                              % Número de símbolos simulados\n",
    "M=8;                                                    % M-PSK\n",
    "\n",
    "%% Correto\n",
    "Power_Noise=1/(2*M*EbN0)                                % Potencia = Variancia Ruído\n",
    "Power_Noise_dB=10*log10(1/(2*M*EbN0))                   % Potencia _ dB\n",
    "\n",
    "%% Errado (Quase todos fizeram)\n",
    "%sigmaRuido = 10^(-EbN0_dB/(2*10));                     % Desvio padrão do ruído AWGN \n",
    "%n = sigmaRuido/sqrt(2)*[randn(1,Ns) + j*randn(1,Ns)];  % Amostras do ruído AWGN\n",
    "%Resposta = sum(abs(n).^2)/length(n)                    % Potencia \n",
    "%Resposta_db=10*log10(Resposta)                         % Potencia em dB"
   ]
  },
  {
   "cell_type": "markdown",
   "metadata": {},
   "source": [
    "### Questão 5:  \n",
    "Considerando a Prática 3: **Quantização do Hands-On 06**, qual a SQNR para $32$ níveis de quantização?   **(Correto)**"
   ]
  },
  {
   "cell_type": "code",
   "execution_count": 10,
   "metadata": {},
   "outputs": [
    {
     "name": "stdout",
     "output_type": "stream",
     "text": [
      "\n",
      "SQNR =\n",
      "\n",
      "   1.2485e+04\n",
      "\n",
      "\n",
      "SQNR_db1 =\n",
      "\n",
      "   40.9639\n",
      "\n"
     ]
    }
   ],
   "source": [
    "clc;close all;clear all;\n",
    "%% Questão 5\n",
    "L= 128; \n",
    "%                                                   Copiado\n",
    "%-----------------------------------------------------------------------------------------------------------------------\n",
    "T=0.002;                                                % Taxa de amostragem (500kHz)\n",
    "Tf=1;                                                   % Tempo final em segundos\n",
    "t=0:T:Tf-T;                                             % Definição do eixo do tempo      \n",
    "fm1=3;                                                  % Frequência senoide 1      \n",
    "fm2=1;                                                  % Frequência senoide 2\n",
    "m_t=sin(2*pi*fm2*t)-sin(2*pi*fm1*t);                    % Sinal mensagem m(t)\n",
    "ts=0.02;                                                % Nova taxa de amostragem\n",
    "N_samp=round(ts/T);                                     % Número de elementos\n",
    "% Quantização\n",
    "sig_max=max(m_t);                                       % Encontra pico máximo\n",
    "sig_min=min(m_t);                                       % Encontra pico mínimo\n",
    "Delta=(sig_max-sig_min)/L;                              % Intervalo de quantização (separação entre um nível e outro)\n",
    "q_level=sig_min+Delta/2:Delta:sig_max-Delta/2;          % Vetor com amplitudes dos Q níveis \n",
    "sigp=m_t-sig_min;                                       % Shift para cima\n",
    "sigp=sigp*(1/Delta);                                    % Calcula a quantidade de nívels\n",
    "sigp=sigp+1/2;                                          % Tira elementos do zero \n",
    "qindex=round(sigp);                                     % Encontra inteiro mais proximo para cada elemento\n",
    "qindex=min(qindex,L);                                   % Remove o excedente de qindex \n",
    "q_out=q_level(qindex);                                  % Calcula a amplitude quantizada de cada amostra\n",
    "%-----------------------------------------------------------------------------------------------------------------------\n",
    "\n",
    "% Cálculo da SQNR m_t\n",
    "\n",
    "N=length(m_t);                                          % Comprimento do vetor \n",
    "Psignal=sum(m_t.^2);                                    % Potência do sinal\n",
    "Pnoise=sum((m_t-q_out).^2);                             % Potência do ruído\n",
    "SQNR=Psignal/Pnoise                                     % SQNR linear \n",
    "SQNR_db1=10*log10(SQNR)\n",
    "%SQNR_db2=10*log10(sum(m_t.^2)/sum((m_t-q_out).^2))"
   ]
  }
 ],
 "metadata": {
  "kernelspec": {
   "display_name": "Matlab",
   "language": "matlab",
   "name": "matlab"
  },
  "language_info": {
   "codemirror_mode": "octave",
   "file_extension": ".m",
   "help_links": [
    {
     "text": "MetaKernel Magics",
     "url": "https://github.com/calysto/metakernel/blob/master/metakernel/magics/README.md"
    }
   ],
   "mimetype": "text/x-matlab",
   "name": "matlab",
   "version": "0.14.3"
  }
 },
 "nbformat": 4,
 "nbformat_minor": 2
}
