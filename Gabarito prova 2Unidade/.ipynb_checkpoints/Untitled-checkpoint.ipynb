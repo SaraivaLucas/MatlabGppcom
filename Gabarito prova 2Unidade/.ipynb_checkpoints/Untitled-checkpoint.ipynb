{
 "cells": [
  {
   "cell_type": "markdown",
   "metadata": {},
   "source": [
    "# Laboratório de prototipagem de sistemas de comunicações \n",
    "## Gabarito - Prova 02\n"
   ]
  },
  {
   "cell_type": "markdown",
   "metadata": {},
   "source": [
    "### Questão 4: \n",
    "Considerando o **Hands-On 09: Modulação digital(modulação, demodulação e desempenho em ruído AWGN)** -Parte 01, qual a probabilidade de erro para um sistema digital binário com sinais antipodais e Eb/No = 17?"
   ]
  }
 ],
 "metadata": {
  "kernelspec": {
   "display_name": "Matlab",
   "language": "matlab",
   "name": "matlab"
  },
  "language_info": {
   "codemirror_mode": "octave",
   "file_extension": ".m",
   "help_links": [
    {
     "text": "MetaKernel Magics",
     "url": "https://github.com/calysto/metakernel/blob/master/metakernel/magics/README.md"
    }
   ],
   "mimetype": "text/x-matlab",
   "name": "matlab",
   "version": "0.14.3"
  }
 },
 "nbformat": 4,
 "nbformat_minor": 2
}
